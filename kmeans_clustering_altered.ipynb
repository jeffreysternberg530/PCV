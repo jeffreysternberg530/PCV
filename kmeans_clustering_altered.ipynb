{
 "cells": [
  {
   "cell_type": "code",
   "execution_count": 72,
   "metadata": {
    "collapsed": true
   },
   "outputs": [],
   "source": [
    "import imtools\n",
    "import pickle\n",
    "import glob\n",
    "from numpy import *\n",
    "import numpy as np\n",
    "from scipy.cluster.vq import *\n",
    "from PIL import Image\n",
    "from pylab import *"
   ]
  },
  {
   "cell_type": "code",
   "execution_count": 73,
   "metadata": {},
   "outputs": [],
   "source": [
    "# get list of images\n",
    "imlist = glob.glob(\"image_sample_copy/animal_images/*.jpg\")\n",
    "#imlist = imtools.get_imlist('data/image_sample/animal_images')\n",
    "imnbr = len(imlist)"
   ]
  },
  {
   "cell_type": "code",
   "execution_count": 74,
   "metadata": {},
   "outputs": [],
   "source": [
    "# load model file\n",
    "with open('sample_pca_modes_altered.pkl','rb') as f:\n",
    "    immean = pickle.load(f)\n",
    "    V = pickle.load(f)"
   ]
  },
  {
   "cell_type": "code",
   "execution_count": 75,
   "metadata": {},
   "outputs": [
    {
     "data": {
      "text/plain": [
       "array([90.9, 93. , 85.2, ..., 64.2, 56.3, 45.1])"
      ]
     },
     "execution_count": 75,
     "metadata": {},
     "output_type": "execute_result"
    }
   ],
   "source": [
    "immean"
   ]
  },
  {
   "cell_type": "code",
   "execution_count": 76,
   "metadata": {},
   "outputs": [
    {
     "data": {
      "text/plain": [
       "array([[-1.06659167e+02, -1.34997226e+02, -1.56679095e+02, ...,\n",
       "        -8.49313805e+01, -6.26677510e+01, -1.02489605e+02],\n",
       "       [ 1.05713334e+02,  7.48282446e+01,  8.71337648e+01, ...,\n",
       "        -9.36359796e+01, -1.08257686e+02, -7.17329120e+01],\n",
       "       [-7.38940910e+00,  2.20357487e+01,  3.39505749e+01, ...,\n",
       "         2.43865170e+01,  3.24118358e+01,  3.07029852e+01],\n",
       "       ...,\n",
       "       [ 3.35412392e+01,  5.70438859e+01,  4.77682893e+01, ...,\n",
       "         2.64952737e+01, -7.14338034e+00,  5.59676931e+00],\n",
       "       [-1.97015922e+01, -2.86908052e+01, -2.74606259e+01, ...,\n",
       "        -6.85705809e+00, -1.13794271e+01, -1.22200838e+01],\n",
       "       [ 6.52467926e-14,  4.13002965e-14,  4.26431591e-14, ...,\n",
       "         2.90984382e-14,  1.95399252e-14,  1.62092562e-14]])"
      ]
     },
     "execution_count": 76,
     "metadata": {},
     "output_type": "execute_result"
    }
   ],
   "source": [
    "V"
   ]
  },
  {
   "cell_type": "code",
   "execution_count": 77,
   "metadata": {},
   "outputs": [],
   "source": [
    "# create matrix to store all flattened images\n",
    "immatrix = array([array(Image.open(im)).flatten()\n",
    "for im in imlist],'f')"
   ]
  },
  {
   "cell_type": "code",
   "execution_count": 78,
   "metadata": {},
   "outputs": [
    {
     "data": {
      "text/plain": [
       "array([145., 147., 160., ...,  62.,  43.,  49.], dtype=float32)"
      ]
     },
     "execution_count": 78,
     "metadata": {},
     "output_type": "execute_result"
    }
   ],
   "source": [
    "immatrix[0]"
   ]
  },
  {
   "cell_type": "code",
   "execution_count": 79,
   "metadata": {
    "collapsed": true
   },
   "outputs": [],
   "source": [
    "# project on the 40 first PCs\n",
    "immean = immean.flatten()\n",
    "projected = array([dot(V[:40],immatrix[i]-immean) for i in range(imnbr)])"
   ]
  },
  {
   "cell_type": "code",
   "execution_count": 80,
   "metadata": {},
   "outputs": [
    {
     "data": {
      "text/plain": [
       "array([[-7.20686867e+08,  1.30450387e+08,  6.16516796e+07,\n",
       "        -8.95209798e+07,  1.26316438e+08, -4.51703189e+07,\n",
       "         8.33446052e+07,  3.63558354e+07,  1.74737433e+08,\n",
       "        -5.13191320e-08],\n",
       "       [-7.14422003e+08,  3.88276027e+08,  6.67092322e+07,\n",
       "        -2.43309498e+07, -2.58667136e+06,  1.56023484e+08,\n",
       "        -4.66137285e+07,  1.34429354e+08, -8.56774684e+07,\n",
       "         4.04264496e-08],\n",
       "       [ 5.51043262e+08, -2.70765235e+08, -2.73089710e+07,\n",
       "        -2.04434925e+08, -7.57461440e+07,  1.00449977e+07,\n",
       "        -2.15416203e+08,  7.08369202e+07,  5.25683019e+07,\n",
       "        -9.26701976e-08],\n",
       "       [ 7.93307830e+08,  1.63089189e+08,  3.64517282e+08,\n",
       "         1.62423824e+08,  1.43953866e+08, -1.76353380e+07,\n",
       "        -8.68840708e+07, -9.25816964e+07, -4.19103237e+06,\n",
       "        -1.96774411e-07],\n",
       "       [ 1.36877656e+08,  4.50973444e+08, -3.17257487e+08,\n",
       "        -3.83324923e+07, -1.03936326e+08, -1.04085941e+08,\n",
       "        -3.89747295e+07, -1.24151608e+08, -6.49183521e+06,\n",
       "         9.02089944e-08],\n",
       "       [-1.31460636e+09, -2.95553230e+08,  1.55200972e+08,\n",
       "         8.17384278e+07, -1.25108544e+08, -1.20204455e+08,\n",
       "        -3.36625029e+07, -5.76863628e+07, -5.04199415e+07,\n",
       "         2.11274685e-07],\n",
       "       [-2.10200062e+08, -2.89578254e+08, -3.24618512e+08,\n",
       "         7.23410827e+07,  2.60919183e+08,  6.64515272e+07,\n",
       "        -1.30095422e+07, -4.23391083e+07, -4.39814402e+07,\n",
       "        -7.63157695e-08],\n",
       "       [ 7.29280406e+08, -4.53523196e+07, -3.46332789e+07,\n",
       "         5.33466874e+07,  1.13697157e+07, -1.76078160e+08,\n",
       "         1.14020303e+08,  1.73601380e+08, -5.89430723e+07,\n",
       "         3.28877025e-08],\n",
       "       [ 3.82229769e+08, -1.20430355e+08,  1.31147897e+08,\n",
       "        -2.81574091e+08, -4.04571165e+07,  8.51084390e+07,\n",
       "         1.65722178e+08, -1.02242109e+08, -5.30505290e+07,\n",
       "         9.20501254e-08],\n",
       "       [ 3.67176367e+08, -1.11109654e+08, -7.54088152e+07,\n",
       "         2.68343416e+08, -1.94724401e+08,  1.45545765e+08,\n",
       "         7.14736907e+07,  3.77739475e+06,  7.54495839e+07,\n",
       "        -4.97684459e-08]])"
      ]
     },
     "execution_count": 80,
     "metadata": {},
     "output_type": "execute_result"
    }
   ],
   "source": [
    "projected"
   ]
  },
  {
   "cell_type": "code",
   "execution_count": 91,
   "metadata": {},
   "outputs": [],
   "source": [
    "# k-means\n",
    "projected = whiten(projected)\n",
    "centroids,distortion = kmeans(projected,4)\n",
    "code,distance = vq(projected,centroids)"
   ]
  },
  {
   "cell_type": "code",
   "execution_count": 93,
   "metadata": {},
   "outputs": [
    {
     "data": {
      "image/png": "[encoded data removed]",
      "text/plain": [
       "<matplotlib.figure.Figure at 0x6233a8fd0>"
      ]
     },
     "metadata": {},
     "output_type": "display_data"
    },
    {
     "data": {
      "image/png": "[encoded data removed]",
      "text/plain": [
       "<matplotlib.figure.Figure at 0x6238afd30>"
      ]
     },
     "metadata": {},
     "output_type": "display_data"
    },
    {
     "data": {
      "image/png": "[encoded data removed]",
      "text/plain": [
       "<matplotlib.figure.Figure at 0x6238f2b00>"
      ]
     },
     "metadata": {},
     "output_type": "display_data"
    },
    {
     "data": {
      "image/png": "[encoded data removed]",
      "text/plain": [
       "<matplotlib.figure.Figure at 0x623bf1128>"
      ]
     },
     "metadata": {},
     "output_type": "display_data"
    }
   ],
   "source": [
    "# plot clusters\n",
    "for k in range(4):\n",
    "    ind = where(code==k)[0]\n",
    "    figure()\n",
    "    gray()\n",
    "    for i in range(minimum(len(ind),40)):\n",
    "        subplot(4,10,i+1)\n",
    "        imshow(immatrix[ind[i]].reshape((201,225,3)))\n",
    "        axis('off')\n",
    "show()"
   ]
  },
  {
   "cell_type": "code",
   "execution_count": null,
   "metadata": {
    "collapsed": true
   },
   "outputs": [],
   "source": []
  }
 ],
 "metadata": {
  "kernelspec": {
   "display_name": "Python 3",
   "language": "python",
   "name": "python3"
  },
  "language_info": {
   "codemirror_mode": {
    "name": "ipython",
    "version": 3
   },
   "file_extension": ".py",
   "mimetype": "text/x-python",
   "name": "python",
   "nbconvert_exporter": "python",
   "pygments_lexer": "ipython3",
   "version": "3.6.3"
  }
 },
 "nbformat": 4,
 "nbformat_minor": 2
}

{
 "cells": [
  {
   "cell_type": "code",
   "execution_count": 67,
   "metadata": {
    "collapsed": true
   },
   "outputs": [],
   "source": [
    "import pickle\n",
    "from scipy.cluster.vq import *\n",
    "import glob"
   ]
  },
  {
   "cell_type": "code",
   "execution_count": 68,
   "metadata": {
    "collapsed": true
   },
   "outputs": [],
   "source": [
    "from PCV.clustering import hcluster\n",
    "from PCV.tools import pca\n",
    "from PCV.tools import imtools"
   ]
  },
  {
   "cell_type": "code",
   "execution_count": 75,
   "metadata": {
    "collapsed": true
   },
   "outputs": [],
   "source": [
    "# get list of images\n",
    "\n",
    "imlist = glob.glob(\"image_samples/animal_images/*.jpeg\")\n",
    "#imlist = imtools.get_imlist('data/image_sample/animal_images')"
   ]
  },
  {
   "cell_type": "code",
   "execution_count": 76,
   "metadata": {},
   "outputs": [
    {
     "data": {
      "text/plain": [
       "['image_samples/animal_images/animal_3.jpeg',\n",
       " 'image_samples/animal_images/animal_2.jpeg',\n",
       " 'image_samples/animal_images/animal_9.jpeg',\n",
       " 'image_samples/animal_images/animal_10.jpeg',\n",
       " 'image_samples/animal_images/animal_5.jpeg',\n",
       " 'image_samples/animal_images/animal_4.jpeg',\n",
       " 'image_samples/animal_images/animal_8.jpeg',\n",
       " 'image_samples/animal_images/animal_7.jpeg',\n",
       " 'image_samples/animal_images/animal_6.jpeg',\n",
       " 'image_samples/animal_images/animal_1.jpeg']"
      ]
     },
     "execution_count": 76,
     "metadata": {},
     "output_type": "execute_result"
    }
   ],
   "source": [
    "imlist"
   ]
  },
  {
   "cell_type": "code",
   "execution_count": 77,
   "metadata": {
    "collapsed": true
   },
   "outputs": [],
   "source": [
    "from PIL import Image\n",
    "from numpy import *\n",
    "from pylab import *\n",
    "\n",
    "im = array(Image.open(imlist[0])) # open one image to get size\n",
    "m,n = im.shape[0:2] # get the size of the images\n",
    "imnbr = len(imlist) # get the number of images"
   ]
  },
  {
   "cell_type": "code",
   "execution_count": 78,
   "metadata": {
    "collapsed": true
   },
   "outputs": [],
   "source": [
    "# create matrix to store all flattened images\n",
    "immatrix = array([array(Image.open(im)).flatten() for im in imlist])"
   ]
  },
  {
   "cell_type": "code",
   "execution_count": 79,
   "metadata": {},
   "outputs": [
    {
     "data": {
      "text/plain": [
       "array([array([ 85, 135, 136, ..., 179, 169, 170], dtype=uint8),\n",
       "       array([210, 222, 218, ...,  54,  22,  43], dtype=uint8),\n",
       "       array([73, 64, 23, ..., 36, 27, 10], dtype=uint8),\n",
       "       array([51, 53, 50, ..., 59, 54, 51], dtype=uint8),\n",
       "       array([115, 103,  87, ...,  36,  65,   7], dtype=uint8),\n",
       "       array([120,  81,  76, ...,  13,   8,   5], dtype=uint8),\n",
       "       array([13, 21, 24, ..., 18, 22, 23], dtype=uint8),\n",
       "       array([145, 147, 160, ...,  60,  43,  51], dtype=uint8),\n",
       "       array([74, 83, 62, ..., 55, 38, 22], dtype=uint8),\n",
       "       array([ 11,  22,   8, ..., 126, 117,  76], dtype=uint8)],\n",
       "      dtype=object)"
      ]
     },
     "execution_count": 79,
     "metadata": {},
     "output_type": "execute_result"
    }
   ],
   "source": [
    "immatrix"
   ]
  },
  {
   "cell_type": "code",
   "execution_count": 80,
   "metadata": {},
   "outputs": [
    {
     "ename": "ValueError",
     "evalue": "not enough values to unpack (expected 2, got 1)",
     "output_type": "error",
     "traceback": [
      "\u001b[0;31m---------------------------------------------------------------------------\u001b[0m",
      "\u001b[0;31mValueError\u001b[0m                                Traceback (most recent call last)",
      "\u001b[0;32m<ipython-input-80-e5afd3a79b36>\u001b[0m in \u001b[0;36m<module>\u001b[0;34m()\u001b[0m\n\u001b[1;32m      1\u001b[0m \u001b[0;31m# perform PCA\u001b[0m\u001b[0;34m\u001b[0m\u001b[0;34m\u001b[0m\u001b[0m\n\u001b[0;32m----> 2\u001b[0;31m \u001b[0mV\u001b[0m\u001b[0;34m,\u001b[0m\u001b[0mS\u001b[0m\u001b[0;34m,\u001b[0m\u001b[0mimmean\u001b[0m \u001b[0;34m=\u001b[0m \u001b[0mpca\u001b[0m\u001b[0;34m.\u001b[0m\u001b[0mpca\u001b[0m\u001b[0;34m(\u001b[0m\u001b[0mimmatrix\u001b[0m\u001b[0;34m)\u001b[0m\u001b[0;34m\u001b[0m\u001b[0m\n\u001b[0m",
      "\u001b[0;32m~/Documents/Image_Analysis_Project/PCV/PCV/tools/pca.py\u001b[0m in \u001b[0;36mpca\u001b[0;34m(X)\u001b[0m\n\u001b[1;32m     10\u001b[0m \u001b[0;34m\u001b[0m\u001b[0m\n\u001b[1;32m     11\u001b[0m     \u001b[0;31m# get dimensions\u001b[0m\u001b[0;34m\u001b[0m\u001b[0;34m\u001b[0m\u001b[0m\n\u001b[0;32m---> 12\u001b[0;31m     \u001b[0mnum_data\u001b[0m\u001b[0;34m,\u001b[0m\u001b[0mdim\u001b[0m \u001b[0;34m=\u001b[0m \u001b[0mX\u001b[0m\u001b[0;34m.\u001b[0m\u001b[0mshape\u001b[0m\u001b[0;34m\u001b[0m\u001b[0m\n\u001b[0m\u001b[1;32m     13\u001b[0m \u001b[0;34m\u001b[0m\u001b[0m\n\u001b[1;32m     14\u001b[0m     \u001b[0;31m# center data\u001b[0m\u001b[0;34m\u001b[0m\u001b[0;34m\u001b[0m\u001b[0m\n",
      "\u001b[0;31mValueError\u001b[0m: not enough values to unpack (expected 2, got 1)"
     ]
    }
   ],
   "source": [
    "# perform PCA\n",
    "V,S,immean = pca.pca(immatrix)"
   ]
  }
 ],
 "metadata": {
  "kernelspec": {
   "display_name": "Python 3",
   "language": "python",
   "name": "python3"
  },
  "language_info": {
   "codemirror_mode": {
    "name": "ipython",
    "version": 3
   },
   "file_extension": ".py",
   "mimetype": "text/x-python",
   "name": "python",
   "nbconvert_exporter": "python",
   "pygments_lexer": "ipython3",
   "version": "3.6.3"
  }
 },
 "nbformat": 4,
 "nbformat_minor": 2
}

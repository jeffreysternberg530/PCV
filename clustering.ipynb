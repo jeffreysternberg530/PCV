{
 "cells": [
  {
   "cell_type": "code",
   "execution_count": 11,
   "metadata": {},
   "outputs": [],
   "source": [
    "import imtools\n",
    "import pickle\n",
    "from scipy.cluster.vq import *\n",
    "import glob"
   ]
  },
  {
   "cell_type": "code",
   "execution_count": 21,
   "metadata": {
    "collapsed": true
   },
   "outputs": [],
   "source": [
    "from PCV.classifiers import *\n",
    "from PCV.clustering import *\n",
    "from PCV.geometry import *\n",
    "from PCV.imagesearch import *\n",
    "from PCV.localdescriptors import *\n",
    "from PCV.tools import *"
   ]
  },
  {
   "cell_type": "code",
   "execution_count": 25,
   "metadata": {
    "collapsed": true
   },
   "outputs": [],
   "source": [
    "from pcv_book.pca import *"
   ]
  },
  {
   "cell_type": "code",
   "execution_count": 51,
   "metadata": {},
   "outputs": [],
   "source": [
    "from PIL import Image\n",
    "from numpy import *\n",
    "\n",
    "def pca(X):\n",
    "    # get dimensions\n",
    "    num_data,dim = X.shape\n",
    "    \n",
    "    # center data\n",
    "    mean_X = X.mean(axis=0)\n",
    "    X = X - mean_X\n",
    "    \n",
    "    if dim>num_data:\n",
    "    # PCA - compact trick used\n",
    "        M = dot(X,X.T) # covariance matrix\n",
    "        e,EV = linalg.eigh(M) # eigenvalues and eigenvectors\n",
    "        tmp = dot(X.T,EV).T # this is the compact trick\n",
    "        V = tmp[::-1] # reverse since last eigenvectors are the ones we want\n",
    "        S = sqrt(e)[::-1] # reverse since eigenvalues are in increasing order\n",
    "        for i in range(V.shape[1]):\n",
    "            V[:,i] /= S\n",
    "    else:\n",
    "        # PCA - SVD used\n",
    "        U,S,V = linalg.svd(X)\n",
    "        V = V[:num_data] # only makes sense to return the first num_data\n",
    "    \n",
    "    # return the projection matrix, the variance and the mean\n",
    "    return V,S,mean_X"
   ]
  },
  {
   "cell_type": "code",
   "execution_count": 43,
   "metadata": {},
   "outputs": [],
   "source": [
    "# get list of images\n",
    "\n",
    "imlist = glob.glob(\"../data/image_sample/animal_images/*.jpeg\")"
   ]
  },
  {
   "cell_type": "code",
   "execution_count": 44,
   "metadata": {},
   "outputs": [],
   "source": [
    "from PIL import Image\n",
    "from numpy import *\n",
    "from pylab import *\n",
    "\n",
    "im = array(Image.open(imlist[0])) # open one image to get size\n",
    "m,n = im.shape[0:2] # get the size of the images\n",
    "imnbr = len(imlist) # get the number of images"
   ]
  },
  {
   "cell_type": "code",
   "execution_count": 57,
   "metadata": {},
   "outputs": [],
   "source": [
    "# create matrix to store all flattened images\n",
    "immatrix = array([array(Image.open(im)).flatten()\n",
    "for im in imlist],object)"
   ]
  },
  {
   "cell_type": "code",
   "execution_count": 70,
   "metadata": {},
   "outputs": [
    {
     "data": {
      "text/plain": [
       "array([array([ 85, 135, 136, ..., 179, 169, 170], dtype=uint8),\n",
       "       array([210, 222, 218, ...,  54,  22,  43], dtype=uint8),\n",
       "       array([73, 64, 23, ..., 36, 27, 10], dtype=uint8),\n",
       "       array([51, 53, 50, ..., 59, 54, 51], dtype=uint8),\n",
       "       array([115, 103,  87, ...,  36,  65,   7], dtype=uint8),\n",
       "       array([120,  81,  76, ...,  13,   8,   5], dtype=uint8),\n",
       "       array([13, 21, 24, ..., 18, 22, 23], dtype=uint8),\n",
       "       array([145, 147, 160, ...,  60,  43,  51], dtype=uint8),\n",
       "       array([74, 83, 62, ..., 55, 38, 22], dtype=uint8),\n",
       "       array([ 11,  22,   8, ..., 126, 117,  76], dtype=uint8)],\n",
       "      dtype=object)"
      ]
     },
     "execution_count": 70,
     "metadata": {},
     "output_type": "execute_result"
    }
   ],
   "source": [
    "immatrix"
   ]
  },
  {
   "cell_type": "code",
   "execution_count": 71,
   "metadata": {},
   "outputs": [
    {
     "ename": "ValueError",
     "evalue": "not enough values to unpack (expected 2, got 1)",
     "output_type": "error",
     "traceback": [
      "\u001b[0;31m---------------------------------------------------------------------------\u001b[0m",
      "\u001b[0;31mValueError\u001b[0m                                Traceback (most recent call last)",
      "\u001b[0;32m<ipython-input-71-194f4ee77bee>\u001b[0m in \u001b[0;36m<module>\u001b[0;34m()\u001b[0m\n\u001b[1;32m      1\u001b[0m \u001b[0;31m# perform PCA\u001b[0m\u001b[0;34m\u001b[0m\u001b[0;34m\u001b[0m\u001b[0m\n\u001b[0;32m----> 2\u001b[0;31m \u001b[0mV\u001b[0m\u001b[0;34m,\u001b[0m\u001b[0mS\u001b[0m\u001b[0;34m,\u001b[0m\u001b[0mimmean\u001b[0m \u001b[0;34m=\u001b[0m \u001b[0mpca\u001b[0m\u001b[0;34m(\u001b[0m\u001b[0mpca\u001b[0m\u001b[0;34m(\u001b[0m\u001b[0mimmatrix\u001b[0m\u001b[0;34m)\u001b[0m\u001b[0;34m)\u001b[0m\u001b[0;34m\u001b[0m\u001b[0m\n\u001b[0m",
      "\u001b[0;32m<ipython-input-51-6f307722ad51>\u001b[0m in \u001b[0;36mpca\u001b[0;34m(X)\u001b[0m\n\u001b[1;32m      4\u001b[0m \u001b[0;32mdef\u001b[0m \u001b[0mpca\u001b[0m\u001b[0;34m(\u001b[0m\u001b[0mX\u001b[0m\u001b[0;34m)\u001b[0m\u001b[0;34m:\u001b[0m\u001b[0;34m\u001b[0m\u001b[0m\n\u001b[1;32m      5\u001b[0m     \u001b[0;31m# get dimensions\u001b[0m\u001b[0;34m\u001b[0m\u001b[0;34m\u001b[0m\u001b[0m\n\u001b[0;32m----> 6\u001b[0;31m     \u001b[0mnum_data\u001b[0m\u001b[0;34m,\u001b[0m\u001b[0mdim\u001b[0m \u001b[0;34m=\u001b[0m \u001b[0mX\u001b[0m\u001b[0;34m.\u001b[0m\u001b[0mshape\u001b[0m\u001b[0;34m\u001b[0m\u001b[0m\n\u001b[0m\u001b[1;32m      7\u001b[0m \u001b[0;34m\u001b[0m\u001b[0m\n\u001b[1;32m      8\u001b[0m     \u001b[0;31m# center data\u001b[0m\u001b[0;34m\u001b[0m\u001b[0;34m\u001b[0m\u001b[0m\n",
      "\u001b[0;31mValueError\u001b[0m: not enough values to unpack (expected 2, got 1)"
     ]
    }
   ],
   "source": [
    "# perform PCA\n",
    "V,S,immean = pca(pca(immatrix))"
   ]
  }
 ],
 "metadata": {
  "kernelspec": {
   "display_name": "Python 3",
   "language": "python",
   "name": "python3"
  },
  "language_info": {
   "codemirror_mode": {
    "name": "ipython",
    "version": 3
   },
   "file_extension": ".py",
   "mimetype": "text/x-python",
   "name": "python",
   "nbconvert_exporter": "python",
   "pygments_lexer": "ipython3",
   "version": "3.6.3"
  }
 },
 "nbformat": 4,
 "nbformat_minor": 2
}

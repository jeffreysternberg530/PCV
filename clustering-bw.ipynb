{
 "cells": [
  {
   "cell_type": "code",
   "execution_count": 72,
   "metadata": {
    "collapsed": true
   },
   "outputs": [],
   "source": [
    "import pickle\n",
    "from scipy.cluster.vq import *\n",
    "import glob"
   ]
  },
  {
   "cell_type": "code",
   "execution_count": 73,
   "metadata": {
    "collapsed": true
   },
   "outputs": [],
   "source": [
    "from PCV.clustering import hcluster\n",
    "from PCV.tools import pca\n",
    "from PCV.tools import imtools"
   ]
  },
  {
   "cell_type": "code",
   "execution_count": 74,
   "metadata": {
    "collapsed": true
   },
   "outputs": [],
   "source": [
    "%matplotlib inline\n",
    "import numpy as np\n",
    "import matplotlib.pyplot as plt\n",
    "import seaborn as sns; sns.set()"
   ]
  },
  {
   "cell_type": "code",
   "execution_count": 75,
   "metadata": {
    "collapsed": true
   },
   "outputs": [],
   "source": [
    "from sklearn.decomposition import PCA"
   ]
  },
  {
   "cell_type": "code",
   "execution_count": 76,
   "metadata": {
    "collapsed": true
   },
   "outputs": [],
   "source": [
    "# get list of images\n",
    "\n",
    "imlist = glob.glob(\"image_samples/animal_images/*.jpeg\")\n",
    "#imlist = imtools.get_imlist('data/image_sample/animal_images')"
   ]
  },
  {
   "cell_type": "code",
   "execution_count": 77,
   "metadata": {},
   "outputs": [
    {
     "data": {
      "text/plain": [
       "['image_samples/animal_images/animal_3.jpeg',\n",
       " 'image_samples/animal_images/animal_2.jpeg',\n",
       " 'image_samples/animal_images/animal_9.jpeg',\n",
       " 'image_samples/animal_images/animal_10.jpeg',\n",
       " 'image_samples/animal_images/animal_5.jpeg',\n",
       " 'image_samples/animal_images/animal_4.jpeg',\n",
       " 'image_samples/animal_images/animal_8.jpeg',\n",
       " 'image_samples/animal_images/animal_7.jpeg',\n",
       " 'image_samples/animal_images/animal_6.jpeg',\n",
       " 'image_samples/animal_images/animal_1.jpeg']"
      ]
     },
     "execution_count": 77,
     "metadata": {},
     "output_type": "execute_result"
    }
   ],
   "source": [
    "imlist"
   ]
  },
  {
   "cell_type": "code",
   "execution_count": 78,
   "metadata": {
    "collapsed": true
   },
   "outputs": [],
   "source": [
    "from PIL import Image\n",
    "from numpy import *\n",
    "from pylab import *\n",
    "\n",
    "im = array(Image.open(imlist[0])) # open one image to get size\n",
    "m,n = im.shape[0:2] # get the size of the images\n",
    "imnbr = len(imlist) # get the number of images"
   ]
  },
  {
   "cell_type": "code",
   "execution_count": 88,
   "metadata": {},
   "outputs": [],
   "source": [
    "arraylist = [array(Image.open(im)).astype(float) for im in imlist]"
   ]
  },
  {
   "cell_type": "code",
   "execution_count": 91,
   "metadata": {},
   "outputs": [
    {
     "data": {
      "text/plain": [
       "[array([[119., 114., 105., ..., 152., 144., 139.],\n",
       "        [101., 101., 103., ..., 153., 145., 142.],\n",
       "        [ 87.,  82.,  80., ..., 153., 145., 146.],\n",
       "        ...,\n",
       "        [200., 200., 201., ..., 174., 174., 173.],\n",
       "        [196., 197., 197., ..., 172., 171., 172.],\n",
       "        [196., 196., 197., ..., 171., 171., 172.]]),\n",
       " array([[218., 218., 219., ..., 165., 165., 165.],\n",
       "        [218., 218., 219., ..., 165., 165., 165.],\n",
       "        [218., 219., 220., ..., 167., 167., 167.],\n",
       "        ...,\n",
       "        [171., 154., 164., ...,  28.,  37.,  33.],\n",
       "        [137., 152., 158., ...,  24.,  35.,  29.],\n",
       "        [158., 152., 188., ...,  20.,  31.,  33.]]),\n",
       " array([[62., 62., 63., ..., 60., 61., 62.],\n",
       "        [57., 58., 58., ..., 59., 61., 62.],\n",
       "        [48., 50., 52., ..., 59., 60., 61.],\n",
       "        ...,\n",
       "        [26., 22., 17., ..., 35., 38., 40.],\n",
       "        [22., 20., 20., ..., 29., 28., 27.],\n",
       "        [22., 20., 20., ..., 29., 28., 27.]]),\n",
       " array([[ 50.,  35.,  18., ..., 154., 158., 156.],\n",
       "        [ 41.,  33.,  27., ..., 164., 171., 180.],\n",
       "        [ 36.,  34.,  34., ..., 200., 174., 168.],\n",
       "        ...,\n",
       "        [155., 156., 158., ...,  56.,  51.,  52.],\n",
       "        [142., 145., 150., ...,  57.,  52.,  53.],\n",
       "        [127., 132., 141., ...,  58.,  53.,  54.]]),\n",
       " array([[101.,  95.,  46., ...,  78.,  79.,  81.],\n",
       "        [105., 101.,  59., ...,  83.,  82.,  84.],\n",
       "        [112., 109.,  76., ...,  89.,  87.,  87.],\n",
       "        ...,\n",
       "        [108.,  86., 104., ...,  64.,  50.,  58.],\n",
       "        [117.,  79.,  96., ..., 106.,  88.,  89.],\n",
       "        [ 94., 155.,  90., ..., 102.,  64.,  44.]]),\n",
       " array([[ 94.,  71., 107., ...,  74.,  87.,  96.],\n",
       "        [110.,  93., 106., ...,  84.,  85.,  99.],\n",
       "        [106., 110., 113., ..., 101.,  99.,  97.],\n",
       "        ...,\n",
       "        [  7.,   7.,   8., ...,  21.,  30.,  14.],\n",
       "        [  7.,   7.,   7., ...,  11.,  18.,  14.],\n",
       "        [  6.,   6.,   6., ...,  12.,  10.,   9.]]),\n",
       " array([[18., 18., 19., ..., 32., 28., 23.],\n",
       "        [18., 18., 19., ..., 26., 30., 35.],\n",
       "        [17., 18., 19., ..., 15., 26., 38.],\n",
       "        ...,\n",
       "        [43., 34., 30., ..., 11., 14., 19.],\n",
       "        [32., 44., 49., ..., 11., 13., 15.],\n",
       "        [48., 92., 71., ..., 20., 20., 20.]]),\n",
       " array([[145., 158., 152., ..., 207., 207., 205.],\n",
       "        [147., 162., 159., ..., 207., 207., 205.],\n",
       "        [151., 166., 171., ..., 207., 207., 205.],\n",
       "        ...,\n",
       "        [148., 147., 145., ...,  47.,  42.,  45.],\n",
       "        [147., 146., 143., ...,  40.,  35.,  49.],\n",
       "        [147., 144., 139., ...,  50.,  43.,  48.]]),\n",
       " array([[78., 34., 27., ..., 39., 53., 66.],\n",
       "        [86., 72., 46., ..., 41., 52., 61.],\n",
       "        [81., 99., 65., ..., 41., 50., 55.],\n",
       "        ...,\n",
       "        [30., 35., 23., ..., 34., 58., 67.],\n",
       "        [22., 28., 19., ..., 35., 58., 66.],\n",
       "        [12., 19., 14., ..., 15., 36., 42.]]),\n",
       " array([[ 17.,  16.,  14., ...,  40.,  24.,  27.],\n",
       "        [ 10.,  11.,  12., ...,  11.,   0.,   7.],\n",
       "        [  9.,  11.,  12., ...,  15.,   7.,  16.],\n",
       "        ...,\n",
       "        [ 41.,  41.,  41., ..., 106.,  79.,  63.],\n",
       "        [ 40.,  40.,  40., ...,  92., 116., 108.],\n",
       "        [ 40.,  40.,  40., ...,  50., 115., 125.]])]"
      ]
     },
     "execution_count": 91,
     "metadata": {},
     "output_type": "execute_result"
    }
   ],
   "source": [
    "arraylist"
   ]
  },
  {
   "cell_type": "code",
   "execution_count": 92,
   "metadata": {
    "collapsed": true
   },
   "outputs": [],
   "source": [
    "shapelist = [array.data.shape for array in arraylist]"
   ]
  },
  {
   "cell_type": "code",
   "execution_count": 93,
   "metadata": {},
   "outputs": [
    {
     "data": {
      "text/plain": [
       "[(224, 225),\n",
       " (225, 225),\n",
       " (218, 231),\n",
       " (180, 279),\n",
       " (168, 300),\n",
       " (225, 225),\n",
       " (201, 251),\n",
       " (225, 225),\n",
       " (183, 275),\n",
       " (159, 318)]"
      ]
     },
     "execution_count": 93,
     "metadata": {},
     "output_type": "execute_result"
    }
   ],
   "source": [
    "shapelist"
   ]
  },
  {
   "cell_type": "code",
   "execution_count": 94,
   "metadata": {},
   "outputs": [],
   "source": [
    "shapelistmean = (mean([shape[0] for shape in shapelist]),mean([shape[1] for shape in shapelist]))"
   ]
  },
  {
   "cell_type": "code",
   "execution_count": 95,
   "metadata": {},
   "outputs": [
    {
     "data": {
      "text/plain": [
       "(200.8, 255.4)"
      ]
     },
     "execution_count": 95,
     "metadata": {},
     "output_type": "execute_result"
    }
   ],
   "source": [
    "shapelistmean"
   ]
  },
  {
   "cell_type": "code",
   "execution_count": 149,
   "metadata": {},
   "outputs": [],
   "source": [
    "import os\n",
    "#size = 159, 225\n",
    "resize = 201, 225\n",
    "for infile in imlist:\n",
    "    file, ext = os.path.splitext(infile)\n",
    "    im = Image.open(infile).resize(resize)\n",
    "    im.save(file + \"_resized.jpg\", \"JPEG\")"
   ]
  },
  {
   "cell_type": "code",
   "execution_count": 150,
   "metadata": {},
   "outputs": [],
   "source": [
    "imlist_resized = glob.glob(\"image_samples/animal_images/*.jpg\")"
   ]
  },
  {
   "cell_type": "code",
   "execution_count": 151,
   "metadata": {},
   "outputs": [
    {
     "data": {
      "text/plain": [
       "['image_samples/animal_images/animal_7_resized.jpg',\n",
       " 'image_samples/animal_images/animal_2_resized.jpg',\n",
       " 'image_samples/animal_images/animal_1_resized.jpg',\n",
       " 'image_samples/animal_images/animal_8_resized.jpg',\n",
       " 'image_samples/animal_images/animal_4_resized.jpg',\n",
       " 'image_samples/animal_images/animal_3_resized.jpg',\n",
       " 'image_samples/animal_images/animal_10_resized.jpg',\n",
       " 'image_samples/animal_images/animal_6_resized.jpg',\n",
       " 'image_samples/animal_images/animal_5_resized.jpg',\n",
       " 'image_samples/animal_images/animal_9_resized.jpg']"
      ]
     },
     "execution_count": 151,
     "metadata": {},
     "output_type": "execute_result"
    }
   ],
   "source": [
    "imlist_resized"
   ]
  },
  {
   "cell_type": "code",
   "execution_count": 152,
   "metadata": {
    "collapsed": true
   },
   "outputs": [],
   "source": [
    "immatrix = array([array(Image.open(im)) for im in imlist_resized])"
   ]
  },
  {
   "cell_type": "code",
   "execution_count": 155,
   "metadata": {
    "collapsed": true
   },
   "outputs": [],
   "source": [
    "# create matrix to store all flattened images\n",
    "immatrix = array([array(Image.open(im)).flatten() for im in imlist_resized])"
   ]
  },
  {
   "cell_type": "code",
   "execution_count": 156,
   "metadata": {
    "collapsed": true
   },
   "outputs": [],
   "source": [
    "shapes = [im.data.shape for im in immatrix]"
   ]
  },
  {
   "cell_type": "code",
   "execution_count": 157,
   "metadata": {},
   "outputs": [
    {
     "data": {
      "text/plain": [
       "[(45225,),\n",
       " (45225,),\n",
       " (45225,),\n",
       " (45225,),\n",
       " (45225,),\n",
       " (45225,),\n",
       " (45225,),\n",
       " (45225,),\n",
       " (45225,),\n",
       " (45225,)]"
      ]
     },
     "execution_count": 157,
     "metadata": {},
     "output_type": "execute_result"
    }
   ],
   "source": [
    "shapes"
   ]
  },
  {
   "cell_type": "code",
   "execution_count": 158,
   "metadata": {},
   "outputs": [
    {
     "name": "stderr",
     "output_type": "stream",
     "text": [
      "/Users/jeffreysternberg/Documents/Image_Analysis_Project/PCV/PCV/tools/pca.py:24: RuntimeWarning: invalid value encountered in sqrt\n",
      "  S = sqrt(e)[::-1] # reverse since eigenvalues are in increasing order\n"
     ]
    }
   ],
   "source": [
    "# perform PCA\n",
    "V,S,immean = pca.pca(immatrix)"
   ]
  },
  {
   "cell_type": "code",
   "execution_count": 185,
   "metadata": {},
   "outputs": [
    {
     "ename": "AttributeError",
     "evalue": "'JpegImageFile' object has no attribute 'data'",
     "output_type": "error",
     "traceback": [
      "\u001b[0;31m---------------------------------------------------------------------------\u001b[0m",
      "\u001b[0;31mAttributeError\u001b[0m                            Traceback (most recent call last)",
      "\u001b[0;32m<ipython-input-185-3429f4587690>\u001b[0m in \u001b[0;36m<module>\u001b[0;34m()\u001b[0m\n\u001b[0;32m----> 1\u001b[0;31m \u001b[0mpca\u001b[0m \u001b[0;34m=\u001b[0m \u001b[0mPCA\u001b[0m\u001b[0;34m(\u001b[0m\u001b[0;34m)\u001b[0m\u001b[0;34m.\u001b[0m\u001b[0mfit\u001b[0m\u001b[0;34m(\u001b[0m\u001b[0mim\u001b[0m\u001b[0;34m.\u001b[0m\u001b[0mdata\u001b[0m\u001b[0;34m)\u001b[0m\u001b[0;34m\u001b[0m\u001b[0m\n\u001b[0m\u001b[1;32m      2\u001b[0m \u001b[0mplt\u001b[0m\u001b[0;34m.\u001b[0m\u001b[0mplot\u001b[0m\u001b[0;34m(\u001b[0m\u001b[0mnp\u001b[0m\u001b[0;34m.\u001b[0m\u001b[0mcumsum\u001b[0m\u001b[0;34m(\u001b[0m\u001b[0mpca\u001b[0m\u001b[0;34m.\u001b[0m\u001b[0mexplained_variance_ratio_\u001b[0m\u001b[0;34m)\u001b[0m\u001b[0;34m)\u001b[0m\u001b[0;34m\u001b[0m\u001b[0m\n\u001b[1;32m      3\u001b[0m \u001b[0mplt\u001b[0m\u001b[0;34m.\u001b[0m\u001b[0mxlabel\u001b[0m\u001b[0;34m(\u001b[0m\u001b[0;34m'number of components'\u001b[0m\u001b[0;34m)\u001b[0m\u001b[0;34m\u001b[0m\u001b[0m\n\u001b[1;32m      4\u001b[0m \u001b[0mplt\u001b[0m\u001b[0;34m.\u001b[0m\u001b[0mylabel\u001b[0m\u001b[0;34m(\u001b[0m\u001b[0;34m'cumulative explained variance'\u001b[0m\u001b[0;34m)\u001b[0m\u001b[0;34m;\u001b[0m\u001b[0;34m\u001b[0m\u001b[0m\n",
      "\u001b[0;31mAttributeError\u001b[0m: 'JpegImageFile' object has no attribute 'data'"
     ]
    }
   ],
   "source": [
    "pca = PCA().fit(im.data)\n",
    "plt.plot(np.cumsum(pca.explained_variance_ratio_))\n",
    "plt.xlabel('number of components')\n",
    "plt.ylabel('cumulative explained variance');"
   ]
  },
  {
   "cell_type": "code",
   "execution_count": 181,
   "metadata": {},
   "outputs": [
    {
     "name": "stdout",
     "output_type": "stream",
     "text": [
      "(224, 225)\n",
      "(224, 2)\n"
     ]
    }
   ],
   "source": [
    "pca = PCA(2)  # project from 64 to 2 dimensions\n",
    "projected = pca.fit_transform(im.data)\n",
    "print(immatrix[0].data.shape)\n",
    "print(projected.shape)"
   ]
  },
  {
   "cell_type": "code",
   "execution_count": 182,
   "metadata": {},
   "outputs": [
    {
     "ename": "AttributeError",
     "evalue": "'numpy.ndarray' object has no attribute 'target'",
     "output_type": "error",
     "traceback": [
      "\u001b[0;31m---------------------------------------------------------------------------\u001b[0m",
      "\u001b[0;31mAttributeError\u001b[0m                            Traceback (most recent call last)",
      "\u001b[0;32m<ipython-input-182-6cb298e3d3b6>\u001b[0m in \u001b[0;36m<module>\u001b[0;34m()\u001b[0m\n\u001b[1;32m      1\u001b[0m plt.scatter(projected[:, 0], projected[:, 1],\n\u001b[0;32m----> 2\u001b[0;31m             \u001b[0mc\u001b[0m\u001b[0;34m=\u001b[0m\u001b[0mim\u001b[0m\u001b[0;34m.\u001b[0m\u001b[0mtarget\u001b[0m\u001b[0;34m,\u001b[0m \u001b[0medgecolor\u001b[0m\u001b[0;34m=\u001b[0m\u001b[0;34m'none'\u001b[0m\u001b[0;34m,\u001b[0m \u001b[0malpha\u001b[0m\u001b[0;34m=\u001b[0m\u001b[0;36m0.5\u001b[0m\u001b[0;34m,\u001b[0m\u001b[0;34m\u001b[0m\u001b[0m\n\u001b[0m\u001b[1;32m      3\u001b[0m             cmap=plt.cm.get_cmap('spectral', 10))\n\u001b[1;32m      4\u001b[0m \u001b[0mplt\u001b[0m\u001b[0;34m.\u001b[0m\u001b[0mxlabel\u001b[0m\u001b[0;34m(\u001b[0m\u001b[0;34m'component 1'\u001b[0m\u001b[0;34m)\u001b[0m\u001b[0;34m\u001b[0m\u001b[0m\n\u001b[1;32m      5\u001b[0m \u001b[0mplt\u001b[0m\u001b[0;34m.\u001b[0m\u001b[0mylabel\u001b[0m\u001b[0;34m(\u001b[0m\u001b[0;34m'component 2'\u001b[0m\u001b[0;34m)\u001b[0m\u001b[0;34m\u001b[0m\u001b[0m\n",
      "\u001b[0;31mAttributeError\u001b[0m: 'numpy.ndarray' object has no attribute 'target'"
     ]
    }
   ],
   "source": [
    "plt.scatter(projected[:, 0], projected[:, 1],\n",
    "            c=im.target, edgecolor='none', alpha=0.5,\n",
    "            cmap=plt.cm.get_cmap('spectral', 10))\n",
    "plt.xlabel('component 1')\n",
    "plt.ylabel('component 2')\n",
    "plt.colorbar();"
   ]
  }
 ],
 "metadata": {
  "kernelspec": {
   "display_name": "Python 3",
   "language": "python",
   "name": "python3"
  },
  "language_info": {
   "codemirror_mode": {
    "name": "ipython",
    "version": 3
   },
   "file_extension": ".py",
   "mimetype": "text/x-python",
   "name": "python",
   "nbconvert_exporter": "python",
   "pygments_lexer": "ipython3",
   "version": "3.6.3"
  }
 },
 "nbformat": 4,
 "nbformat_minor": 2
}

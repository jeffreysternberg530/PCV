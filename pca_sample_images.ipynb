{
 "cells": [
  {
   "cell_type": "code",
   "execution_count": 2,
   "metadata": {
    "collapsed": true
   },
   "outputs": [],
   "source": [
    "import pickle\n",
    "from scipy.cluster.vq import *\n",
    "import glob"
   ]
  },
  {
   "cell_type": "code",
   "execution_count": 3,
   "metadata": {
    "collapsed": true
   },
   "outputs": [],
   "source": [
    "from PCV.clustering import hcluster\n",
    "from PCV.tools import pca\n",
    "from PCV.tools import imtools"
   ]
  },
  {
   "cell_type": "code",
   "execution_count": 4,
   "metadata": {
    "collapsed": true
   },
   "outputs": [],
   "source": [
    "# get list of images\n",
    "\n",
    "imlist = glob.glob(\"image_sample_copy/animal_images/*.jpeg\")\n",
    "#imlist = imtools.get_imlist('data/image_sample/animal_images')"
   ]
  },
  {
   "cell_type": "code",
   "execution_count": 5,
   "metadata": {},
   "outputs": [
    {
     "data": {
      "text/plain": [
       "['image_sample_copy/animal_images/animal_3.jpeg',\n",
       " 'image_sample_copy/animal_images/animal_2.jpeg',\n",
       " 'image_sample_copy/animal_images/animal_9.jpeg',\n",
       " 'image_sample_copy/animal_images/animal_10.jpeg',\n",
       " 'image_sample_copy/animal_images/animal_5.jpeg',\n",
       " 'image_sample_copy/animal_images/animal_4.jpeg',\n",
       " 'image_sample_copy/animal_images/animal_8.jpeg',\n",
       " 'image_sample_copy/animal_images/animal_7.jpeg',\n",
       " 'image_sample_copy/animal_images/animal_6.jpeg',\n",
       " 'image_sample_copy/animal_images/animal_1.jpeg']"
      ]
     },
     "execution_count": 5,
     "metadata": {},
     "output_type": "execute_result"
    }
   ],
   "source": [
    "imlist"
   ]
  },
  {
   "cell_type": "code",
   "execution_count": 6,
   "metadata": {
    "collapsed": true
   },
   "outputs": [],
   "source": [
    "from PIL import Image\n",
    "from numpy import *\n",
    "import numpy as np\n",
    "from pylab import *\n",
    "\n",
    "im = np.array(Image.open(imlist[0])) # open one image to get size\n",
    "m,n = im.shape[0:2] # get the size of the images\n",
    "imnbr = len(imlist) # get the number of images"
   ]
  },
  {
   "cell_type": "code",
   "execution_count": 7,
   "metadata": {
    "collapsed": true
   },
   "outputs": [],
   "source": [
    "arraylist = [array(Image.open(im)).astype(float) for im in imlist]"
   ]
  },
  {
   "cell_type": "code",
   "execution_count": 8,
   "metadata": {},
   "outputs": [
    {
     "data": {
      "text/plain": [
       "[array([[[ 85., 135., 136.],\n",
       "         [ 79., 129., 130.],\n",
       "         [ 69., 120., 121.],\n",
       "         ...,\n",
       "         [156., 150., 152.],\n",
       "         [148., 142., 144.],\n",
       "         [148., 137., 141.]],\n",
       " \n",
       "        [[ 65., 113., 113.],\n",
       "         [ 68., 116., 116.],\n",
       "         [ 71., 119., 119.],\n",
       "         ...,\n",
       "         [156., 150., 152.],\n",
       "         [149., 143., 145.],\n",
       "         [151., 140., 144.]],\n",
       " \n",
       "        [[ 58., 100.,  99.],\n",
       "         [ 53.,  95.,  93.],\n",
       "         [ 54.,  94.,  93.],\n",
       "         ...,\n",
       "         [157., 151., 153.],\n",
       "         [149., 143., 145.],\n",
       "         [155., 144., 148.]],\n",
       " \n",
       "        ...,\n",
       " \n",
       "        [[206., 198., 196.],\n",
       "         [206., 198., 196.],\n",
       "         [207., 199., 197.],\n",
       "         ...,\n",
       "         [184., 170., 169.],\n",
       "         [184., 170., 169.],\n",
       "         [180., 170., 171.]],\n",
       " \n",
       "        [[202., 194., 192.],\n",
       "         [203., 195., 193.],\n",
       "         [203., 195., 193.],\n",
       "         ...,\n",
       "         [184., 168., 168.],\n",
       "         [183., 167., 167.],\n",
       "         [179., 169., 170.]],\n",
       " \n",
       "        [[201., 193., 191.],\n",
       "         [202., 194., 192.],\n",
       "         [202., 194., 192.],\n",
       "         ...,\n",
       "         [184., 168., 168.],\n",
       "         [183., 167., 167.],\n",
       "         [179., 169., 170.]]]), array([[[210., 222., 218.],\n",
       "         [211., 223., 219.],\n",
       "         [212., 224., 220.],\n",
       "         ...,\n",
       "         [154., 168., 181.],\n",
       "         [154., 168., 181.],\n",
       "         [157., 167., 177.]],\n",
       " \n",
       "        [[210., 222., 218.],\n",
       "         [211., 223., 219.],\n",
       "         [212., 224., 220.],\n",
       "         ...,\n",
       "         [154., 168., 179.],\n",
       "         [154., 168., 179.],\n",
       "         [157., 167., 177.]],\n",
       " \n",
       "        [[211., 223., 219.],\n",
       "         [211., 223., 219.],\n",
       "         [212., 224., 220.],\n",
       "         ...,\n",
       "         [155., 169., 180.],\n",
       "         [155., 169., 180.],\n",
       "         [158., 168., 178.]],\n",
       " \n",
       "        ...,\n",
       " \n",
       "        [[192., 172., 137.],\n",
       "         [179., 159., 126.],\n",
       "         [187., 167., 134.],\n",
       "         ...,\n",
       "         [ 48.,  18.,  42.],\n",
       "         [ 55.,  25.,  49.],\n",
       "         [ 53.,  22.,  40.]],\n",
       " \n",
       "        [[152., 133.,  93.],\n",
       "         [166., 147., 107.],\n",
       "         [174., 154., 117.],\n",
       "         ...,\n",
       "         [ 44.,  14.,  38.],\n",
       "         [ 52.,  22.,  46.],\n",
       "         [ 48.,  17.,  35.]],\n",
       " \n",
       "        [[175., 158., 130.],\n",
       "         [168., 151., 123.],\n",
       "         [203., 186., 156.],\n",
       "         ...,\n",
       "         [ 34.,  11.,  31.],\n",
       "         [ 43.,  19.,  45.],\n",
       "         [ 54.,  22.,  43.]]]), array([[[73., 64., 23.],\n",
       "         [73., 64., 25.],\n",
       "         [74., 65., 26.],\n",
       "         ...,\n",
       "         [78., 54., 42.],\n",
       "         [79., 55., 43.],\n",
       "         [80., 56., 44.]],\n",
       " \n",
       "        [[67., 58., 19.],\n",
       "         [68., 59., 20.],\n",
       "         [70., 60., 24.],\n",
       "         ...,\n",
       "         [78., 54., 42.],\n",
       "         [79., 55., 43.],\n",
       "         [80., 56., 44.]],\n",
       " \n",
       "        [[58., 50., 13.],\n",
       "         [60., 52., 16.],\n",
       "         [62., 54., 18.],\n",
       "         ...,\n",
       "         [78., 54., 42.],\n",
       "         [79., 55., 43.],\n",
       "         [80., 56., 44.]],\n",
       " \n",
       "        ...,\n",
       " \n",
       "        [[33., 28.,  9.],\n",
       "         [29., 23.,  9.],\n",
       "         [21., 17.,  6.],\n",
       "         ...,\n",
       "         [45., 36., 19.],\n",
       "         [47., 38., 21.],\n",
       "         [49., 40., 23.]],\n",
       " \n",
       "        [[28., 20.,  7.],\n",
       "         [25., 19.,  7.],\n",
       "         [26., 19., 11.],\n",
       "         ...,\n",
       "         [38., 29., 12.],\n",
       "         [37., 28., 11.],\n",
       "         [36., 27., 10.]],\n",
       " \n",
       "        [[30., 22., 11.],\n",
       "         [28., 19., 10.],\n",
       "         [28., 21., 15.],\n",
       "         ...,\n",
       "         [38., 29., 12.],\n",
       "         [37., 28., 11.],\n",
       "         [36., 27., 10.]]]), array([[[ 51.,  53.,  50.],\n",
       "         [ 35.,  37.,  34.],\n",
       "         [ 18.,  20.,  15.],\n",
       "         ...,\n",
       "         [167., 158., 149.],\n",
       "         [166., 157., 148.],\n",
       "         [157., 148., 139.]],\n",
       " \n",
       "        [[ 40.,  42.,  39.],\n",
       "         [ 32.,  34.,  29.],\n",
       "         [ 27.,  29.,  24.],\n",
       "         ...,\n",
       "         [169., 160., 151.],\n",
       "         [180., 171., 162.],\n",
       "         [193., 184., 175.]],\n",
       " \n",
       "        [[ 34.,  36.,  31.],\n",
       "         [ 32.,  34.,  29.],\n",
       "         [ 34.,  35.,  30.],\n",
       "         ...,\n",
       "         [203., 194., 185.],\n",
       "         [183., 174., 165.],\n",
       "         [183., 174., 165.]],\n",
       " \n",
       "        ...,\n",
       " \n",
       "        [[167., 154., 146.],\n",
       "         [168., 158., 149.],\n",
       "         [169., 159., 150.],\n",
       "         ...,\n",
       "         [ 60.,  55.,  52.],\n",
       "         [ 55.,  50.,  47.],\n",
       "         [ 57.,  52.,  49.]],\n",
       " \n",
       "        [[156., 143., 135.],\n",
       "         [156., 146., 137.],\n",
       "         [160., 150., 141.],\n",
       "         ...,\n",
       "         [ 61.,  56.,  53.],\n",
       "         [ 56.,  51.,  48.],\n",
       "         [ 58.,  53.,  50.]],\n",
       " \n",
       "        [[136., 123., 114.],\n",
       "         [138., 128., 118.],\n",
       "         [146., 136., 127.],\n",
       "         ...,\n",
       "         [ 62.,  57.,  54.],\n",
       "         [ 57.,  52.,  49.],\n",
       "         [ 59.,  54.,  51.]]]), array([[[115., 103.,  87.],\n",
       "         [106.,  94.,  78.],\n",
       "         [ 58.,  46.,  30.],\n",
       "         ...,\n",
       "         [ 71.,  84.,  75.],\n",
       "         [ 74.,  85.,  77.],\n",
       "         [ 76.,  88.,  78.]],\n",
       " \n",
       "        [[117., 105.,  91.],\n",
       "         [112., 100.,  84.],\n",
       "         [ 71.,  59.,  43.],\n",
       "         ...,\n",
       "         [ 74.,  87.,  78.],\n",
       "         [ 76.,  87.,  79.],\n",
       "         [ 77.,  89.,  79.]],\n",
       " \n",
       "        [[123., 111.,  97.],\n",
       "         [120., 108.,  94.],\n",
       "         [ 87.,  75.,  59.],\n",
       "         ...,\n",
       "         [ 82.,  95.,  86.],\n",
       "         [ 82.,  94.,  84.],\n",
       "         [ 82.,  94.,  84.]],\n",
       " \n",
       "        ...,\n",
       " \n",
       "        [[ 96., 116.,  88.],\n",
       "         [ 71.,  93.,  54.],\n",
       "         [ 93., 118.,  63.],\n",
       "         ...,\n",
       "         [ 49.,  78.,  24.],\n",
       "         [ 32.,  61.,   7.],\n",
       "         [ 49.,  78.,  24.]],\n",
       " \n",
       "        [[111., 131.,  94.],\n",
       "         [ 71.,  94.,  50.],\n",
       "         [ 94., 119.,  64.],\n",
       "         ...,\n",
       "         [ 92., 121.,  67.],\n",
       "         [ 76., 105.,  51.],\n",
       "         [ 82., 111.,  55.]],\n",
       " \n",
       "        [[ 89., 111.,  65.],\n",
       "         [134., 156., 109.],\n",
       "         [ 90., 113.,  61.],\n",
       "         ...,\n",
       "         [ 84., 113.,  59.],\n",
       "         [ 43.,  72.,  16.],\n",
       "         [ 36.,  65.,   7.]]]), array([[[120.,  81.,  76.],\n",
       "         [102.,  63.,  58.],\n",
       "         [134.,  95.,  90.],\n",
       "         ...,\n",
       "         [103.,  67.,  35.],\n",
       "         [115.,  79.,  47.],\n",
       "         [127.,  90.,  63.]],\n",
       " \n",
       "        [[138.,  99.,  94.],\n",
       "         [123.,  84.,  79.],\n",
       "         [135.,  96.,  91.],\n",
       "         ...,\n",
       "         [113.,  77.,  45.],\n",
       "         [114.,  78.,  46.],\n",
       "         [130.,  93.,  66.]],\n",
       " \n",
       "        [[134.,  95.,  90.],\n",
       "         [136.,  97.,  92.],\n",
       "         [141., 102.,  97.],\n",
       "         ...,\n",
       "         [129.,  93.,  61.],\n",
       "         [126.,  90.,  58.],\n",
       "         [128.,  91.,  64.]],\n",
       " \n",
       "        ...,\n",
       " \n",
       "        [[ 13.,   5.,   3.],\n",
       "         [ 13.,   5.,   3.],\n",
       "         [ 13.,   5.,   3.],\n",
       "         ...,\n",
       "         [ 29.,  20.,  15.],\n",
       "         [ 38.,  29.,  24.],\n",
       "         [ 23.,  13.,  11.]],\n",
       " \n",
       "        [[ 12.,   4.,   2.],\n",
       "         [ 13.,   5.,   3.],\n",
       "         [ 13.,   5.,   3.],\n",
       "         ...,\n",
       "         [ 17.,   8.,   3.],\n",
       "         [ 25.,  16.,  11.],\n",
       "         [ 22.,  12.,  10.]],\n",
       " \n",
       "        [[ 11.,   5.,   5.],\n",
       "         [ 11.,   5.,   5.],\n",
       "         [ 11.,   5.,   5.],\n",
       "         ...,\n",
       "         [ 21.,  10.,   4.],\n",
       "         [ 19.,   8.,   2.],\n",
       "         [ 13.,   8.,   5.]]]), array([[[13., 21., 24.],\n",
       "         [14., 22., 25.],\n",
       "         [15., 23., 26.],\n",
       "         ...,\n",
       "         [27., 33., 59.],\n",
       "         [21., 27., 49.],\n",
       "         [15., 22., 38.]],\n",
       " \n",
       "        [[13., 21., 24.],\n",
       "         [14., 22., 25.],\n",
       "         [14., 22., 25.],\n",
       "         ...,\n",
       "         [19., 24., 54.],\n",
       "         [24., 29., 58.],\n",
       "         [30., 35., 64.]],\n",
       " \n",
       "        [[13., 21., 24.],\n",
       "         [13., 21., 24.],\n",
       "         [14., 22., 25.],\n",
       "         ...,\n",
       "         [ 5.,  9., 44.],\n",
       "         [18., 22., 60.],\n",
       "         [34., 36., 77.]],\n",
       " \n",
       "        ...,\n",
       " \n",
       "        [[37., 48., 32.],\n",
       "         [28., 40., 20.],\n",
       "         [23., 36., 10.],\n",
       "         ...,\n",
       "         [ 8., 13.,  9.],\n",
       "         [11., 15., 14.],\n",
       "         [17., 21., 20.]],\n",
       " \n",
       "        [[28., 40., 20.],\n",
       "         [39., 51., 27.],\n",
       "         [42., 55., 25.],\n",
       "         ...,\n",
       "         [11., 15., 14.],\n",
       "         [11., 15., 14.],\n",
       "         [10., 14., 15.]],\n",
       " \n",
       "        [[43., 56., 30.],\n",
       "         [84., 97., 67.],\n",
       "         [65., 79., 44.],\n",
       "         ...,\n",
       "         [17., 21., 20.],\n",
       "         [17., 21., 22.],\n",
       "         [18., 22., 23.]]]), array([[[145., 147., 160.],\n",
       "         [150., 154., 166.],\n",
       "         [145., 149., 161.],\n",
       "         ...,\n",
       "         [206., 206., 216.],\n",
       "         [206., 206., 216.],\n",
       "         [203., 203., 213.]],\n",
       " \n",
       "        [[147., 149., 162.],\n",
       "         [156., 158., 171.],\n",
       "         [154., 158., 170.],\n",
       "         ...,\n",
       "         [206., 206., 216.],\n",
       "         [206., 206., 216.],\n",
       "         [204., 204., 214.]],\n",
       " \n",
       "        [[150., 152., 165.],\n",
       "         [163., 165., 178.],\n",
       "         [167., 171., 183.],\n",
       "         ...,\n",
       "         [206., 206., 216.],\n",
       "         [206., 206., 216.],\n",
       "         [204., 204., 214.]],\n",
       " \n",
       "        ...,\n",
       " \n",
       "        [[175., 139., 123.],\n",
       "         [174., 138., 122.],\n",
       "         [173., 136., 120.],\n",
       "         ...,\n",
       "         [ 72.,  38.,  36.],\n",
       "         [ 69.,  35.,  33.],\n",
       "         [ 63.,  37.,  46.]],\n",
       " \n",
       "        [[174., 138., 122.],\n",
       "         [173., 137., 121.],\n",
       "         [172., 135., 119.],\n",
       "         ...,\n",
       "         [ 67.,  33.,  31.],\n",
       "         [ 62.,  28.,  26.],\n",
       "         [ 67.,  41.,  50.]],\n",
       " \n",
       "        [[176., 138., 119.],\n",
       "         [175., 133., 117.],\n",
       "         [171., 129., 113.],\n",
       "         ...,\n",
       "         [ 67.,  45.,  47.],\n",
       "         [ 57.,  37.,  39.],\n",
       "         [ 60.,  43.,  51.]]]), array([[[ 74.,  83.,  62.],\n",
       "         [ 28.,  37.,  16.],\n",
       "         [ 21.,  30.,   9.],\n",
       "         ...,\n",
       "         [ 41.,  44.,  23.],\n",
       "         [ 54.,  57.,  36.],\n",
       "         [ 72.,  75.,  54.]],\n",
       " \n",
       "        [[ 85.,  94.,  73.],\n",
       "         [ 67.,  76.,  55.],\n",
       "         [ 42.,  51.,  30.],\n",
       "         ...,\n",
       "         [ 44.,  47.,  26.],\n",
       "         [ 52.,  55.,  34.],\n",
       "         [ 62.,  65.,  44.]],\n",
       " \n",
       "        [[ 81.,  90.,  69.],\n",
       "         [ 95., 104.,  83.],\n",
       "         [ 63.,  72.,  51.],\n",
       "         ...,\n",
       "         [ 44.,  47.,  26.],\n",
       "         [ 48.,  51.,  30.],\n",
       "         [ 51.,  54.,  33.]],\n",
       " \n",
       "        ...,\n",
       " \n",
       "        [[ 25.,  38.,  10.],\n",
       "         [ 29.,  42.,  12.],\n",
       "         [ 18.,  31.,   1.],\n",
       "         ...,\n",
       "         [ 48.,  31.,  15.],\n",
       "         [ 73.,  56.,  40.],\n",
       "         [ 81.,  64.,  48.]],\n",
       " \n",
       "        [[ 18.,  31.,   3.],\n",
       "         [ 23.,  36.,   8.],\n",
       "         [ 15.,  28.,   0.],\n",
       "         ...,\n",
       "         [ 51.,  34.,  18.],\n",
       "         [ 74.,  57.,  41.],\n",
       "         [ 78.,  61.,  45.]],\n",
       " \n",
       "        [[  7.,  20.,   0.],\n",
       "         [ 14.,  27.,   0.],\n",
       "         [ 10.,  23.,   0.],\n",
       "         ...,\n",
       "         [ 35.,  18.,   2.],\n",
       "         [ 55.,  38.,  22.],\n",
       "         [ 55.,  38.,  22.]]]), array([[[ 11.,  22.,   8.],\n",
       "         [ 10.,  21.,   7.],\n",
       "         [  8.,  19.,   5.],\n",
       "         ...,\n",
       "         [ 47.,  37.,  35.],\n",
       "         [ 28.,  20.,  17.],\n",
       "         [ 32.,  24.,  22.]],\n",
       " \n",
       "        [[  6.,  14.,   3.],\n",
       "         [  7.,  15.,   4.],\n",
       "         [  7.,  15.,   2.],\n",
       "         ...,\n",
       "         [ 17.,   9.,   6.],\n",
       "         [  6.,   0.,   0.],\n",
       "         [ 11.,   3.,   1.]],\n",
       " \n",
       "        [[  5.,  12.,   4.],\n",
       "         [  7.,  15.,   4.],\n",
       "         [  8.,  16.,   5.],\n",
       "         ...,\n",
       "         [ 21.,  13.,  10.],\n",
       "         [  8.,   3.,   0.],\n",
       "         [ 16.,  11.,   8.]],\n",
       " \n",
       "        ...,\n",
       " \n",
       "        [[ 31.,  41.,  68.],\n",
       "         [ 31.,  41.,  68.],\n",
       "         [ 31.,  41.,  68.],\n",
       "         ...,\n",
       "         [117., 108.,  67.],\n",
       "         [ 95.,  86.,  45.],\n",
       "         [ 75.,  66.,  25.]],\n",
       " \n",
       "        [[ 31.,  41.,  68.],\n",
       "         [ 31.,  41.,  68.],\n",
       "         [ 31.,  41.,  68.],\n",
       "         ...,\n",
       "         [106.,  97.,  56.],\n",
       "         [129., 120.,  79.],\n",
       "         [115., 106.,  65.]],\n",
       " \n",
       "        [[ 30.,  40.,  67.],\n",
       "         [ 30.,  40.,  67.],\n",
       "         [ 30.,  40.,  67.],\n",
       "         ...,\n",
       "         [ 72.,  63.,  22.],\n",
       "         [117., 108.,  67.],\n",
       "         [126., 117.,  76.]]])]"
      ]
     },
     "execution_count": 8,
     "metadata": {},
     "output_type": "execute_result"
    }
   ],
   "source": [
    "arraylist"
   ]
  },
  {
   "cell_type": "code",
   "execution_count": 9,
   "metadata": {
    "collapsed": true
   },
   "outputs": [],
   "source": [
    "shapelist = [array.data.shape for array in arraylist]"
   ]
  },
  {
   "cell_type": "code",
   "execution_count": 10,
   "metadata": {},
   "outputs": [
    {
     "data": {
      "text/plain": [
       "[(224, 225, 3),\n",
       " (225, 225, 3),\n",
       " (218, 231, 3),\n",
       " (180, 279, 3),\n",
       " (168, 300, 3),\n",
       " (225, 225, 3),\n",
       " (201, 251, 3),\n",
       " (225, 225, 3),\n",
       " (183, 275, 3),\n",
       " (159, 318, 3)]"
      ]
     },
     "execution_count": 10,
     "metadata": {},
     "output_type": "execute_result"
    }
   ],
   "source": [
    "shapelist"
   ]
  },
  {
   "cell_type": "code",
   "execution_count": 11,
   "metadata": {
    "collapsed": true
   },
   "outputs": [],
   "source": [
    "shapelistmean = (mean([shape[0] for shape in shapelist]),mean([shape[1] for shape in shapelist]))"
   ]
  },
  {
   "cell_type": "code",
   "execution_count": 12,
   "metadata": {},
   "outputs": [
    {
     "data": {
      "text/plain": [
       "(200.8, 255.4)"
      ]
     },
     "execution_count": 12,
     "metadata": {},
     "output_type": "execute_result"
    }
   ],
   "source": [
    "shapelistmean"
   ]
  },
  {
   "cell_type": "code",
   "execution_count": 13,
   "metadata": {
    "collapsed": true
   },
   "outputs": [],
   "source": [
    "import os\n",
    "#size = 159, 225\n",
    "size = 201, 225\n",
    "for infile in imlist:\n",
    "    file, ext = os.path.splitext(infile)\n",
    "    im = Image.open(infile).resize(size)\n",
    "    im.save(file + \"_resized.jpg\", \"JPEG\")"
   ]
  },
  {
   "cell_type": "code",
   "execution_count": 14,
   "metadata": {
    "collapsed": true
   },
   "outputs": [],
   "source": [
    "imlist_resized = glob.glob(\"image_sample_copy/animal_images/*.jpg\")"
   ]
  },
  {
   "cell_type": "code",
   "execution_count": 15,
   "metadata": {},
   "outputs": [
    {
     "data": {
      "text/plain": [
       "['image_sample_copy/animal_images/animal_7_resized.jpg',\n",
       " 'image_sample_copy/animal_images/animal_2_resized.jpg',\n",
       " 'image_sample_copy/animal_images/animal_1_resized.jpg',\n",
       " 'image_sample_copy/animal_images/animal_8_resized.jpg',\n",
       " 'image_sample_copy/animal_images/animal_4_resized.jpg',\n",
       " 'image_sample_copy/animal_images/animal_3_resized.jpg',\n",
       " 'image_sample_copy/animal_images/animal_10_resized.jpg',\n",
       " 'image_sample_copy/animal_images/animal_6_resized.jpg',\n",
       " 'image_sample_copy/animal_images/animal_5_resized.jpg',\n",
       " 'image_sample_copy/animal_images/animal_9_resized.jpg']"
      ]
     },
     "execution_count": 15,
     "metadata": {},
     "output_type": "execute_result"
    }
   ],
   "source": [
    "imlist_resized"
   ]
  },
  {
   "cell_type": "code",
   "execution_count": 17,
   "metadata": {
    "collapsed": true
   },
   "outputs": [],
   "source": [
    "# create matrix to store all flattened images\n",
    "immatrix = np.array([np.array(Image.open(im)).flatten() for im in imlist_resized])"
   ]
  },
  {
   "cell_type": "code",
   "execution_count": 18,
   "metadata": {
    "collapsed": true
   },
   "outputs": [],
   "source": [
    "shapes = [im.data.shape for im in immatrix]"
   ]
  },
  {
   "cell_type": "code",
   "execution_count": 19,
   "metadata": {},
   "outputs": [
    {
     "data": {
      "text/plain": [
       "[(135675,),\n",
       " (135675,),\n",
       " (135675,),\n",
       " (135675,),\n",
       " (135675,),\n",
       " (135675,),\n",
       " (135675,),\n",
       " (135675,),\n",
       " (135675,),\n",
       " (135675,)]"
      ]
     },
     "execution_count": 19,
     "metadata": {},
     "output_type": "execute_result"
    }
   ],
   "source": [
    "shapes"
   ]
  },
  {
   "cell_type": "code",
   "execution_count": 20,
   "metadata": {},
   "outputs": [
    {
     "name": "stderr",
     "output_type": "stream",
     "text": [
      "/Users/jeffreysternberg/Documents/Image_Analysis_Project/PCV/PCV/tools/pca.py:24: RuntimeWarning: invalid value encountered in sqrt\n",
      "  S = sqrt(e)[::-1] # reverse since eigenvalues are in increasing order\n"
     ]
    }
   ],
   "source": [
    "# perform PCA\n",
    "V,S,immean = pca.pca(immatrix)"
   ]
  },
  {
   "cell_type": "code",
   "execution_count": 29,
   "metadata": {},
   "outputs": [
    {
     "data": {
      "text/plain": [
       "array([[-0.00230727, -0.00292029, -0.00338931, ..., -0.00183725,\n",
       "        -0.00135564, -0.00221707],\n",
       "       [ 0.00369335,  0.0026143 ,  0.00304423, ..., -0.0032714 ,\n",
       "        -0.00378224, -0.00250616],\n",
       "       [-0.00029455,  0.00087838,  0.00135333, ...,  0.00097209,\n",
       "         0.00129199,  0.00122387],\n",
       "       ...,\n",
       "       [ 0.00191495,  0.00325677,  0.0027272 , ...,  0.00151268,\n",
       "        -0.00040783,  0.00031953],\n",
       "       [-0.0012742 , -0.00185558, -0.00177602, ..., -0.00044348,\n",
       "        -0.00073597, -0.00079033],\n",
       "       [        nan,         nan,         nan, ...,         nan,\n",
       "                nan,         nan]])"
      ]
     },
     "execution_count": 29,
     "metadata": {},
     "output_type": "execute_result"
    }
   ],
   "source": [
    "V"
   ]
  },
  {
   "cell_type": "code",
   "execution_count": 31,
   "metadata": {},
   "outputs": [
    {
     "data": {
      "image/png": "[encoded data removed]",
      "text/plain": [
       "<matplotlib.figure.Figure at 0x10ea9d3c8>"
      ]
     },
     "metadata": {},
     "output_type": "display_data"
    },
    {
     "data": {
      "image/png": "[encoded data removed]",
      "text/plain": [
       "<matplotlib.figure.Figure at 0x10ea86320>"
      ]
     },
     "metadata": {},
     "output_type": "display_data"
    },
    {
     "ename": "ValueError",
     "evalue": "Floating point image RGB values must be in the 0..1 range.",
     "output_type": "error",
     "traceback": [
      "\u001b[0;31m---------------------------------------------------------------------------\u001b[0m",
      "\u001b[0;31mValueError\u001b[0m                                Traceback (most recent call last)",
      "\u001b[0;32m~/anaconda3/lib/python3.6/site-packages/IPython/core/formatters.py\u001b[0m in \u001b[0;36m__call__\u001b[0;34m(self, obj)\u001b[0m\n\u001b[1;32m    330\u001b[0m                 \u001b[0;32mpass\u001b[0m\u001b[0;34m\u001b[0m\u001b[0m\n\u001b[1;32m    331\u001b[0m             \u001b[0;32melse\u001b[0m\u001b[0;34m:\u001b[0m\u001b[0;34m\u001b[0m\u001b[0m\n\u001b[0;32m--> 332\u001b[0;31m                 \u001b[0;32mreturn\u001b[0m \u001b[0mprinter\u001b[0m\u001b[0;34m(\u001b[0m\u001b[0mobj\u001b[0m\u001b[0;34m)\u001b[0m\u001b[0;34m\u001b[0m\u001b[0m\n\u001b[0m\u001b[1;32m    333\u001b[0m             \u001b[0;31m# Finally look for special method names\u001b[0m\u001b[0;34m\u001b[0m\u001b[0;34m\u001b[0m\u001b[0m\n\u001b[1;32m    334\u001b[0m             \u001b[0mmethod\u001b[0m \u001b[0;34m=\u001b[0m \u001b[0mget_real_method\u001b[0m\u001b[0;34m(\u001b[0m\u001b[0mobj\u001b[0m\u001b[0;34m,\u001b[0m \u001b[0mself\u001b[0m\u001b[0;34m.\u001b[0m\u001b[0mprint_method\u001b[0m\u001b[0;34m)\u001b[0m\u001b[0;34m\u001b[0m\u001b[0m\n",
      "\u001b[0;32m~/anaconda3/lib/python3.6/site-packages/IPython/core/pylabtools.py\u001b[0m in \u001b[0;36m<lambda>\u001b[0;34m(fig)\u001b[0m\n\u001b[1;32m    235\u001b[0m \u001b[0;34m\u001b[0m\u001b[0m\n\u001b[1;32m    236\u001b[0m     \u001b[0;32mif\u001b[0m \u001b[0;34m'png'\u001b[0m \u001b[0;32min\u001b[0m \u001b[0mformats\u001b[0m\u001b[0;34m:\u001b[0m\u001b[0;34m\u001b[0m\u001b[0m\n\u001b[0;32m--> 237\u001b[0;31m         \u001b[0mpng_formatter\u001b[0m\u001b[0;34m.\u001b[0m\u001b[0mfor_type\u001b[0m\u001b[0;34m(\u001b[0m\u001b[0mFigure\u001b[0m\u001b[0;34m,\u001b[0m \u001b[0;32mlambda\u001b[0m \u001b[0mfig\u001b[0m\u001b[0;34m:\u001b[0m \u001b[0mprint_figure\u001b[0m\u001b[0;34m(\u001b[0m\u001b[0mfig\u001b[0m\u001b[0;34m,\u001b[0m \u001b[0;34m'png'\u001b[0m\u001b[0;34m,\u001b[0m \u001b[0;34m**\u001b[0m\u001b[0mkwargs\u001b[0m\u001b[0;34m)\u001b[0m\u001b[0;34m)\u001b[0m\u001b[0;34m\u001b[0m\u001b[0m\n\u001b[0m\u001b[1;32m    238\u001b[0m     \u001b[0;32mif\u001b[0m \u001b[0;34m'retina'\u001b[0m \u001b[0;32min\u001b[0m \u001b[0mformats\u001b[0m \u001b[0;32mor\u001b[0m \u001b[0;34m'png2x'\u001b[0m \u001b[0;32min\u001b[0m \u001b[0mformats\u001b[0m\u001b[0;34m:\u001b[0m\u001b[0;34m\u001b[0m\u001b[0m\n\u001b[1;32m    239\u001b[0m         \u001b[0mpng_formatter\u001b[0m\u001b[0;34m.\u001b[0m\u001b[0mfor_type\u001b[0m\u001b[0;34m(\u001b[0m\u001b[0mFigure\u001b[0m\u001b[0;34m,\u001b[0m \u001b[0;32mlambda\u001b[0m \u001b[0mfig\u001b[0m\u001b[0;34m:\u001b[0m \u001b[0mretina_figure\u001b[0m\u001b[0;34m(\u001b[0m\u001b[0mfig\u001b[0m\u001b[0;34m,\u001b[0m \u001b[0;34m**\u001b[0m\u001b[0mkwargs\u001b[0m\u001b[0;34m)\u001b[0m\u001b[0;34m)\u001b[0m\u001b[0;34m\u001b[0m\u001b[0m\n",
      "\u001b[0;32m~/anaconda3/lib/python3.6/site-packages/IPython/core/pylabtools.py\u001b[0m in \u001b[0;36mprint_figure\u001b[0;34m(fig, fmt, bbox_inches, **kwargs)\u001b[0m\n\u001b[1;32m    119\u001b[0m \u001b[0;34m\u001b[0m\u001b[0m\n\u001b[1;32m    120\u001b[0m     \u001b[0mbytes_io\u001b[0m \u001b[0;34m=\u001b[0m \u001b[0mBytesIO\u001b[0m\u001b[0;34m(\u001b[0m\u001b[0;34m)\u001b[0m\u001b[0;34m\u001b[0m\u001b[0m\n\u001b[0;32m--> 121\u001b[0;31m     \u001b[0mfig\u001b[0m\u001b[0;34m.\u001b[0m\u001b[0mcanvas\u001b[0m\u001b[0;34m.\u001b[0m\u001b[0mprint_figure\u001b[0m\u001b[0;34m(\u001b[0m\u001b[0mbytes_io\u001b[0m\u001b[0;34m,\u001b[0m \u001b[0;34m**\u001b[0m\u001b[0mkw\u001b[0m\u001b[0;34m)\u001b[0m\u001b[0;34m\u001b[0m\u001b[0m\n\u001b[0m\u001b[1;32m    122\u001b[0m     \u001b[0mdata\u001b[0m \u001b[0;34m=\u001b[0m \u001b[0mbytes_io\u001b[0m\u001b[0;34m.\u001b[0m\u001b[0mgetvalue\u001b[0m\u001b[0;34m(\u001b[0m\u001b[0;34m)\u001b[0m\u001b[0;34m\u001b[0m\u001b[0m\n\u001b[1;32m    123\u001b[0m     \u001b[0;32mif\u001b[0m \u001b[0mfmt\u001b[0m \u001b[0;34m==\u001b[0m \u001b[0;34m'svg'\u001b[0m\u001b[0;34m:\u001b[0m\u001b[0;34m\u001b[0m\u001b[0m\n",
      "\u001b[0;32m~/anaconda3/lib/python3.6/site-packages/matplotlib/backend_bases.py\u001b[0m in \u001b[0;36mprint_figure\u001b[0;34m(self, filename, dpi, facecolor, edgecolor, orientation, format, **kwargs)\u001b[0m\n\u001b[1;32m   2206\u001b[0m                     \u001b[0morientation\u001b[0m\u001b[0;34m=\u001b[0m\u001b[0morientation\u001b[0m\u001b[0;34m,\u001b[0m\u001b[0;34m\u001b[0m\u001b[0m\n\u001b[1;32m   2207\u001b[0m                     \u001b[0mdryrun\u001b[0m\u001b[0;34m=\u001b[0m\u001b[0;32mTrue\u001b[0m\u001b[0;34m,\u001b[0m\u001b[0;34m\u001b[0m\u001b[0m\n\u001b[0;32m-> 2208\u001b[0;31m                     **kwargs)\n\u001b[0m\u001b[1;32m   2209\u001b[0m                 \u001b[0mrenderer\u001b[0m \u001b[0;34m=\u001b[0m \u001b[0mself\u001b[0m\u001b[0;34m.\u001b[0m\u001b[0mfigure\u001b[0m\u001b[0;34m.\u001b[0m\u001b[0m_cachedRenderer\u001b[0m\u001b[0;34m\u001b[0m\u001b[0m\n\u001b[1;32m   2210\u001b[0m                 \u001b[0mbbox_inches\u001b[0m \u001b[0;34m=\u001b[0m \u001b[0mself\u001b[0m\u001b[0;34m.\u001b[0m\u001b[0mfigure\u001b[0m\u001b[0;34m.\u001b[0m\u001b[0mget_tightbbox\u001b[0m\u001b[0;34m(\u001b[0m\u001b[0mrenderer\u001b[0m\u001b[0;34m)\u001b[0m\u001b[0;34m\u001b[0m\u001b[0m\n",
      "\u001b[0;32m~/anaconda3/lib/python3.6/site-packages/matplotlib/backends/backend_agg.py\u001b[0m in \u001b[0;36mprint_png\u001b[0;34m(self, filename_or_obj, *args, **kwargs)\u001b[0m\n\u001b[1;32m    505\u001b[0m \u001b[0;34m\u001b[0m\u001b[0m\n\u001b[1;32m    506\u001b[0m     \u001b[0;32mdef\u001b[0m \u001b[0mprint_png\u001b[0m\u001b[0;34m(\u001b[0m\u001b[0mself\u001b[0m\u001b[0;34m,\u001b[0m \u001b[0mfilename_or_obj\u001b[0m\u001b[0;34m,\u001b[0m \u001b[0;34m*\u001b[0m\u001b[0margs\u001b[0m\u001b[0;34m,\u001b[0m \u001b[0;34m**\u001b[0m\u001b[0mkwargs\u001b[0m\u001b[0;34m)\u001b[0m\u001b[0;34m:\u001b[0m\u001b[0;34m\u001b[0m\u001b[0m\n\u001b[0;32m--> 507\u001b[0;31m         \u001b[0mFigureCanvasAgg\u001b[0m\u001b[0;34m.\u001b[0m\u001b[0mdraw\u001b[0m\u001b[0;34m(\u001b[0m\u001b[0mself\u001b[0m\u001b[0;34m)\u001b[0m\u001b[0;34m\u001b[0m\u001b[0m\n\u001b[0m\u001b[1;32m    508\u001b[0m         \u001b[0mrenderer\u001b[0m \u001b[0;34m=\u001b[0m \u001b[0mself\u001b[0m\u001b[0;34m.\u001b[0m\u001b[0mget_renderer\u001b[0m\u001b[0;34m(\u001b[0m\u001b[0;34m)\u001b[0m\u001b[0;34m\u001b[0m\u001b[0m\n\u001b[1;32m    509\u001b[0m         \u001b[0moriginal_dpi\u001b[0m \u001b[0;34m=\u001b[0m \u001b[0mrenderer\u001b[0m\u001b[0;34m.\u001b[0m\u001b[0mdpi\u001b[0m\u001b[0;34m\u001b[0m\u001b[0m\n",
      "\u001b[0;32m~/anaconda3/lib/python3.6/site-packages/matplotlib/backends/backend_agg.py\u001b[0m in \u001b[0;36mdraw\u001b[0;34m(self)\u001b[0m\n\u001b[1;32m    428\u001b[0m             \u001b[0;32mif\u001b[0m \u001b[0mtoolbar\u001b[0m\u001b[0;34m:\u001b[0m\u001b[0;34m\u001b[0m\u001b[0m\n\u001b[1;32m    429\u001b[0m                 \u001b[0mtoolbar\u001b[0m\u001b[0;34m.\u001b[0m\u001b[0mset_cursor\u001b[0m\u001b[0;34m(\u001b[0m\u001b[0mcursors\u001b[0m\u001b[0;34m.\u001b[0m\u001b[0mWAIT\u001b[0m\u001b[0;34m)\u001b[0m\u001b[0;34m\u001b[0m\u001b[0m\n\u001b[0;32m--> 430\u001b[0;31m             \u001b[0mself\u001b[0m\u001b[0;34m.\u001b[0m\u001b[0mfigure\u001b[0m\u001b[0;34m.\u001b[0m\u001b[0mdraw\u001b[0m\u001b[0;34m(\u001b[0m\u001b[0mself\u001b[0m\u001b[0;34m.\u001b[0m\u001b[0mrenderer\u001b[0m\u001b[0;34m)\u001b[0m\u001b[0;34m\u001b[0m\u001b[0m\n\u001b[0m\u001b[1;32m    431\u001b[0m         \u001b[0;32mfinally\u001b[0m\u001b[0;34m:\u001b[0m\u001b[0;34m\u001b[0m\u001b[0m\n\u001b[1;32m    432\u001b[0m             \u001b[0;32mif\u001b[0m \u001b[0mtoolbar\u001b[0m\u001b[0;34m:\u001b[0m\u001b[0;34m\u001b[0m\u001b[0m\n",
      "\u001b[0;32m~/anaconda3/lib/python3.6/site-packages/matplotlib/artist.py\u001b[0m in \u001b[0;36mdraw_wrapper\u001b[0;34m(artist, renderer, *args, **kwargs)\u001b[0m\n\u001b[1;32m     53\u001b[0m                 \u001b[0mrenderer\u001b[0m\u001b[0;34m.\u001b[0m\u001b[0mstart_filter\u001b[0m\u001b[0;34m(\u001b[0m\u001b[0;34m)\u001b[0m\u001b[0;34m\u001b[0m\u001b[0m\n\u001b[1;32m     54\u001b[0m \u001b[0;34m\u001b[0m\u001b[0m\n\u001b[0;32m---> 55\u001b[0;31m             \u001b[0;32mreturn\u001b[0m \u001b[0mdraw\u001b[0m\u001b[0;34m(\u001b[0m\u001b[0martist\u001b[0m\u001b[0;34m,\u001b[0m \u001b[0mrenderer\u001b[0m\u001b[0;34m,\u001b[0m \u001b[0;34m*\u001b[0m\u001b[0margs\u001b[0m\u001b[0;34m,\u001b[0m \u001b[0;34m**\u001b[0m\u001b[0mkwargs\u001b[0m\u001b[0;34m)\u001b[0m\u001b[0;34m\u001b[0m\u001b[0m\n\u001b[0m\u001b[1;32m     56\u001b[0m         \u001b[0;32mfinally\u001b[0m\u001b[0;34m:\u001b[0m\u001b[0;34m\u001b[0m\u001b[0m\n\u001b[1;32m     57\u001b[0m             \u001b[0;32mif\u001b[0m \u001b[0martist\u001b[0m\u001b[0;34m.\u001b[0m\u001b[0mget_agg_filter\u001b[0m\u001b[0;34m(\u001b[0m\u001b[0;34m)\u001b[0m \u001b[0;32mis\u001b[0m \u001b[0;32mnot\u001b[0m \u001b[0;32mNone\u001b[0m\u001b[0;34m:\u001b[0m\u001b[0;34m\u001b[0m\u001b[0m\n",
      "\u001b[0;32m~/anaconda3/lib/python3.6/site-packages/matplotlib/figure.py\u001b[0m in \u001b[0;36mdraw\u001b[0;34m(self, renderer)\u001b[0m\n\u001b[1;32m   1293\u001b[0m \u001b[0;34m\u001b[0m\u001b[0m\n\u001b[1;32m   1294\u001b[0m             mimage._draw_list_compositing_images(\n\u001b[0;32m-> 1295\u001b[0;31m                 renderer, self, artists, self.suppressComposite)\n\u001b[0m\u001b[1;32m   1296\u001b[0m \u001b[0;34m\u001b[0m\u001b[0m\n\u001b[1;32m   1297\u001b[0m             \u001b[0mrenderer\u001b[0m\u001b[0;34m.\u001b[0m\u001b[0mclose_group\u001b[0m\u001b[0;34m(\u001b[0m\u001b[0;34m'figure'\u001b[0m\u001b[0;34m)\u001b[0m\u001b[0;34m\u001b[0m\u001b[0m\n",
      "\u001b[0;32m~/anaconda3/lib/python3.6/site-packages/matplotlib/image.py\u001b[0m in \u001b[0;36m_draw_list_compositing_images\u001b[0;34m(renderer, parent, artists, suppress_composite)\u001b[0m\n\u001b[1;32m    136\u001b[0m     \u001b[0;32mif\u001b[0m \u001b[0mnot_composite\u001b[0m \u001b[0;32mor\u001b[0m \u001b[0;32mnot\u001b[0m \u001b[0mhas_images\u001b[0m\u001b[0;34m:\u001b[0m\u001b[0;34m\u001b[0m\u001b[0m\n\u001b[1;32m    137\u001b[0m         \u001b[0;32mfor\u001b[0m \u001b[0ma\u001b[0m \u001b[0;32min\u001b[0m \u001b[0martists\u001b[0m\u001b[0;34m:\u001b[0m\u001b[0;34m\u001b[0m\u001b[0m\n\u001b[0;32m--> 138\u001b[0;31m             \u001b[0ma\u001b[0m\u001b[0;34m.\u001b[0m\u001b[0mdraw\u001b[0m\u001b[0;34m(\u001b[0m\u001b[0mrenderer\u001b[0m\u001b[0;34m)\u001b[0m\u001b[0;34m\u001b[0m\u001b[0m\n\u001b[0m\u001b[1;32m    139\u001b[0m     \u001b[0;32melse\u001b[0m\u001b[0;34m:\u001b[0m\u001b[0;34m\u001b[0m\u001b[0m\n\u001b[1;32m    140\u001b[0m         \u001b[0;31m# Composite any adjacent images together\u001b[0m\u001b[0;34m\u001b[0m\u001b[0;34m\u001b[0m\u001b[0m\n",
      "\u001b[0;32m~/anaconda3/lib/python3.6/site-packages/matplotlib/artist.py\u001b[0m in \u001b[0;36mdraw_wrapper\u001b[0;34m(artist, renderer, *args, **kwargs)\u001b[0m\n\u001b[1;32m     53\u001b[0m                 \u001b[0mrenderer\u001b[0m\u001b[0;34m.\u001b[0m\u001b[0mstart_filter\u001b[0m\u001b[0;34m(\u001b[0m\u001b[0;34m)\u001b[0m\u001b[0;34m\u001b[0m\u001b[0m\n\u001b[1;32m     54\u001b[0m \u001b[0;34m\u001b[0m\u001b[0m\n\u001b[0;32m---> 55\u001b[0;31m             \u001b[0;32mreturn\u001b[0m \u001b[0mdraw\u001b[0m\u001b[0;34m(\u001b[0m\u001b[0martist\u001b[0m\u001b[0;34m,\u001b[0m \u001b[0mrenderer\u001b[0m\u001b[0;34m,\u001b[0m \u001b[0;34m*\u001b[0m\u001b[0margs\u001b[0m\u001b[0;34m,\u001b[0m \u001b[0;34m**\u001b[0m\u001b[0mkwargs\u001b[0m\u001b[0;34m)\u001b[0m\u001b[0;34m\u001b[0m\u001b[0m\n\u001b[0m\u001b[1;32m     56\u001b[0m         \u001b[0;32mfinally\u001b[0m\u001b[0;34m:\u001b[0m\u001b[0;34m\u001b[0m\u001b[0m\n\u001b[1;32m     57\u001b[0m             \u001b[0;32mif\u001b[0m \u001b[0martist\u001b[0m\u001b[0;34m.\u001b[0m\u001b[0mget_agg_filter\u001b[0m\u001b[0;34m(\u001b[0m\u001b[0;34m)\u001b[0m \u001b[0;32mis\u001b[0m \u001b[0;32mnot\u001b[0m \u001b[0;32mNone\u001b[0m\u001b[0;34m:\u001b[0m\u001b[0;34m\u001b[0m\u001b[0m\n",
      "\u001b[0;32m~/anaconda3/lib/python3.6/site-packages/matplotlib/axes/_base.py\u001b[0m in \u001b[0;36mdraw\u001b[0;34m(self, renderer, inframe)\u001b[0m\n\u001b[1;32m   2397\u001b[0m             \u001b[0mrenderer\u001b[0m\u001b[0;34m.\u001b[0m\u001b[0mstop_rasterizing\u001b[0m\u001b[0;34m(\u001b[0m\u001b[0;34m)\u001b[0m\u001b[0;34m\u001b[0m\u001b[0m\n\u001b[1;32m   2398\u001b[0m \u001b[0;34m\u001b[0m\u001b[0m\n\u001b[0;32m-> 2399\u001b[0;31m         \u001b[0mmimage\u001b[0m\u001b[0;34m.\u001b[0m\u001b[0m_draw_list_compositing_images\u001b[0m\u001b[0;34m(\u001b[0m\u001b[0mrenderer\u001b[0m\u001b[0;34m,\u001b[0m \u001b[0mself\u001b[0m\u001b[0;34m,\u001b[0m \u001b[0martists\u001b[0m\u001b[0;34m)\u001b[0m\u001b[0;34m\u001b[0m\u001b[0m\n\u001b[0m\u001b[1;32m   2400\u001b[0m \u001b[0;34m\u001b[0m\u001b[0m\n\u001b[1;32m   2401\u001b[0m         \u001b[0mrenderer\u001b[0m\u001b[0;34m.\u001b[0m\u001b[0mclose_group\u001b[0m\u001b[0;34m(\u001b[0m\u001b[0;34m'axes'\u001b[0m\u001b[0;34m)\u001b[0m\u001b[0;34m\u001b[0m\u001b[0m\n",
      "\u001b[0;32m~/anaconda3/lib/python3.6/site-packages/matplotlib/image.py\u001b[0m in \u001b[0;36m_draw_list_compositing_images\u001b[0;34m(renderer, parent, artists, suppress_composite)\u001b[0m\n\u001b[1;32m    136\u001b[0m     \u001b[0;32mif\u001b[0m \u001b[0mnot_composite\u001b[0m \u001b[0;32mor\u001b[0m \u001b[0;32mnot\u001b[0m \u001b[0mhas_images\u001b[0m\u001b[0;34m:\u001b[0m\u001b[0;34m\u001b[0m\u001b[0m\n\u001b[1;32m    137\u001b[0m         \u001b[0;32mfor\u001b[0m \u001b[0ma\u001b[0m \u001b[0;32min\u001b[0m \u001b[0martists\u001b[0m\u001b[0;34m:\u001b[0m\u001b[0;34m\u001b[0m\u001b[0m\n\u001b[0;32m--> 138\u001b[0;31m             \u001b[0ma\u001b[0m\u001b[0;34m.\u001b[0m\u001b[0mdraw\u001b[0m\u001b[0;34m(\u001b[0m\u001b[0mrenderer\u001b[0m\u001b[0;34m)\u001b[0m\u001b[0;34m\u001b[0m\u001b[0m\n\u001b[0m\u001b[1;32m    139\u001b[0m     \u001b[0;32melse\u001b[0m\u001b[0;34m:\u001b[0m\u001b[0;34m\u001b[0m\u001b[0m\n\u001b[1;32m    140\u001b[0m         \u001b[0;31m# Composite any adjacent images together\u001b[0m\u001b[0;34m\u001b[0m\u001b[0;34m\u001b[0m\u001b[0m\n",
      "\u001b[0;32m~/anaconda3/lib/python3.6/site-packages/matplotlib/artist.py\u001b[0m in \u001b[0;36mdraw_wrapper\u001b[0;34m(artist, renderer, *args, **kwargs)\u001b[0m\n\u001b[1;32m     53\u001b[0m                 \u001b[0mrenderer\u001b[0m\u001b[0;34m.\u001b[0m\u001b[0mstart_filter\u001b[0m\u001b[0;34m(\u001b[0m\u001b[0;34m)\u001b[0m\u001b[0;34m\u001b[0m\u001b[0m\n\u001b[1;32m     54\u001b[0m \u001b[0;34m\u001b[0m\u001b[0m\n\u001b[0;32m---> 55\u001b[0;31m             \u001b[0;32mreturn\u001b[0m \u001b[0mdraw\u001b[0m\u001b[0;34m(\u001b[0m\u001b[0martist\u001b[0m\u001b[0;34m,\u001b[0m \u001b[0mrenderer\u001b[0m\u001b[0;34m,\u001b[0m \u001b[0;34m*\u001b[0m\u001b[0margs\u001b[0m\u001b[0;34m,\u001b[0m \u001b[0;34m**\u001b[0m\u001b[0mkwargs\u001b[0m\u001b[0;34m)\u001b[0m\u001b[0;34m\u001b[0m\u001b[0m\n\u001b[0m\u001b[1;32m     56\u001b[0m         \u001b[0;32mfinally\u001b[0m\u001b[0;34m:\u001b[0m\u001b[0;34m\u001b[0m\u001b[0m\n\u001b[1;32m     57\u001b[0m             \u001b[0;32mif\u001b[0m \u001b[0martist\u001b[0m\u001b[0;34m.\u001b[0m\u001b[0mget_agg_filter\u001b[0m\u001b[0;34m(\u001b[0m\u001b[0;34m)\u001b[0m \u001b[0;32mis\u001b[0m \u001b[0;32mnot\u001b[0m \u001b[0;32mNone\u001b[0m\u001b[0;34m:\u001b[0m\u001b[0;34m\u001b[0m\u001b[0m\n",
      "\u001b[0;32m~/anaconda3/lib/python3.6/site-packages/matplotlib/image.py\u001b[0m in \u001b[0;36mdraw\u001b[0;34m(self, renderer, *args, **kwargs)\u001b[0m\n\u001b[1;32m    546\u001b[0m         \u001b[0;32melse\u001b[0m\u001b[0;34m:\u001b[0m\u001b[0;34m\u001b[0m\u001b[0m\n\u001b[1;32m    547\u001b[0m             im, l, b, trans = self.make_image(\n\u001b[0;32m--> 548\u001b[0;31m                 renderer, renderer.get_image_magnification())\n\u001b[0m\u001b[1;32m    549\u001b[0m             \u001b[0;32mif\u001b[0m \u001b[0mim\u001b[0m \u001b[0;32mis\u001b[0m \u001b[0;32mnot\u001b[0m \u001b[0;32mNone\u001b[0m\u001b[0;34m:\u001b[0m\u001b[0;34m\u001b[0m\u001b[0m\n\u001b[1;32m    550\u001b[0m                 \u001b[0mrenderer\u001b[0m\u001b[0;34m.\u001b[0m\u001b[0mdraw_image\u001b[0m\u001b[0;34m(\u001b[0m\u001b[0mgc\u001b[0m\u001b[0;34m,\u001b[0m \u001b[0ml\u001b[0m\u001b[0;34m,\u001b[0m \u001b[0mb\u001b[0m\u001b[0;34m,\u001b[0m \u001b[0mim\u001b[0m\u001b[0;34m)\u001b[0m\u001b[0;34m\u001b[0m\u001b[0m\n",
      "\u001b[0;32m~/anaconda3/lib/python3.6/site-packages/matplotlib/image.py\u001b[0m in \u001b[0;36mmake_image\u001b[0;34m(self, renderer, magnification, unsampled)\u001b[0m\n\u001b[1;32m    772\u001b[0m         return self._make_image(\n\u001b[1;32m    773\u001b[0m             \u001b[0mself\u001b[0m\u001b[0;34m.\u001b[0m\u001b[0m_A\u001b[0m\u001b[0;34m,\u001b[0m \u001b[0mbbox\u001b[0m\u001b[0;34m,\u001b[0m \u001b[0mtransformed_bbox\u001b[0m\u001b[0;34m,\u001b[0m \u001b[0mself\u001b[0m\u001b[0;34m.\u001b[0m\u001b[0maxes\u001b[0m\u001b[0;34m.\u001b[0m\u001b[0mbbox\u001b[0m\u001b[0;34m,\u001b[0m \u001b[0mmagnification\u001b[0m\u001b[0;34m,\u001b[0m\u001b[0;34m\u001b[0m\u001b[0m\n\u001b[0;32m--> 774\u001b[0;31m             unsampled=unsampled)\n\u001b[0m\u001b[1;32m    775\u001b[0m \u001b[0;34m\u001b[0m\u001b[0m\n\u001b[1;32m    776\u001b[0m     \u001b[0;32mdef\u001b[0m \u001b[0m_check_unsampled_image\u001b[0m\u001b[0;34m(\u001b[0m\u001b[0mself\u001b[0m\u001b[0;34m,\u001b[0m \u001b[0mrenderer\u001b[0m\u001b[0;34m)\u001b[0m\u001b[0;34m:\u001b[0m\u001b[0;34m\u001b[0m\u001b[0m\n",
      "\u001b[0;32m~/anaconda3/lib/python3.6/site-packages/matplotlib/image.py\u001b[0m in \u001b[0;36m_make_image\u001b[0;34m(self, A, in_bbox, out_bbox, clip_bbox, magnification, unsampled, round_to_pixel_border)\u001b[0m\n\u001b[1;32m    464\u001b[0m             \u001b[0;31m# (of int or float)\u001b[0m\u001b[0;34m\u001b[0m\u001b[0;34m\u001b[0m\u001b[0m\n\u001b[1;32m    465\u001b[0m             \u001b[0;31m# or an RGBA array of re-sampled input\u001b[0m\u001b[0;34m\u001b[0m\u001b[0;34m\u001b[0m\u001b[0m\n\u001b[0;32m--> 466\u001b[0;31m             \u001b[0moutput\u001b[0m \u001b[0;34m=\u001b[0m \u001b[0mself\u001b[0m\u001b[0;34m.\u001b[0m\u001b[0mto_rgba\u001b[0m\u001b[0;34m(\u001b[0m\u001b[0moutput\u001b[0m\u001b[0;34m,\u001b[0m \u001b[0mbytes\u001b[0m\u001b[0;34m=\u001b[0m\u001b[0;32mTrue\u001b[0m\u001b[0;34m,\u001b[0m \u001b[0mnorm\u001b[0m\u001b[0;34m=\u001b[0m\u001b[0;32mFalse\u001b[0m\u001b[0;34m)\u001b[0m\u001b[0;34m\u001b[0m\u001b[0m\n\u001b[0m\u001b[1;32m    467\u001b[0m             \u001b[0;31m# output is now a correctly sized RGBA array of uint8\u001b[0m\u001b[0;34m\u001b[0m\u001b[0;34m\u001b[0m\u001b[0m\n\u001b[1;32m    468\u001b[0m \u001b[0;34m\u001b[0m\u001b[0m\n",
      "\u001b[0;32m~/anaconda3/lib/python3.6/site-packages/matplotlib/cm.py\u001b[0m in \u001b[0;36mto_rgba\u001b[0;34m(self, x, alpha, bytes, norm)\u001b[0m\n\u001b[1;32m    255\u001b[0m                 \u001b[0;32mif\u001b[0m \u001b[0mxx\u001b[0m\u001b[0;34m.\u001b[0m\u001b[0mdtype\u001b[0m\u001b[0;34m.\u001b[0m\u001b[0mkind\u001b[0m \u001b[0;34m==\u001b[0m \u001b[0;34m'f'\u001b[0m\u001b[0;34m:\u001b[0m\u001b[0;34m\u001b[0m\u001b[0m\n\u001b[1;32m    256\u001b[0m                     \u001b[0;32mif\u001b[0m \u001b[0mnorm\u001b[0m \u001b[0;32mand\u001b[0m \u001b[0mxx\u001b[0m\u001b[0;34m.\u001b[0m\u001b[0mmax\u001b[0m\u001b[0;34m(\u001b[0m\u001b[0;34m)\u001b[0m \u001b[0;34m>\u001b[0m \u001b[0;36m1\u001b[0m \u001b[0;32mor\u001b[0m \u001b[0mxx\u001b[0m\u001b[0;34m.\u001b[0m\u001b[0mmin\u001b[0m\u001b[0;34m(\u001b[0m\u001b[0;34m)\u001b[0m \u001b[0;34m<\u001b[0m \u001b[0;36m0\u001b[0m\u001b[0;34m:\u001b[0m\u001b[0;34m\u001b[0m\u001b[0m\n\u001b[0;32m--> 257\u001b[0;31m                         raise ValueError(\"Floating point image RGB values \"\n\u001b[0m\u001b[1;32m    258\u001b[0m                                          \"must be in the 0..1 range.\")\n\u001b[1;32m    259\u001b[0m                     \u001b[0;32mif\u001b[0m \u001b[0mbytes\u001b[0m\u001b[0;34m:\u001b[0m\u001b[0;34m\u001b[0m\u001b[0m\n",
      "\u001b[0;31mValueError\u001b[0m: Floating point image RGB values must be in the 0..1 range."
     ]
    },
    {
     "data": {
      "text/plain": [
       "<matplotlib.figure.Figure at 0x62baf0908>"
      ]
     },
     "metadata": {},
     "output_type": "display_data"
    }
   ],
   "source": [
    "# show some images (mean and 7 first modes)\n",
    "figure()\n",
    "gray()\n",
    "subplot(2,4,1)\n",
    "imshow(immean.reshape(201,225,3))\n",
    "for i in range(7):\n",
    "    subplot(2,4,i+2)\n",
    "    imshow(V[i].reshape(201,225,3))\n",
    "\n",
    "show()"
   ]
  },
  {
   "cell_type": "code",
   "execution_count": 30,
   "metadata": {
    "collapsed": true
   },
   "outputs": [],
   "source": [
    "# save mean and principal components\n",
    "f = open('sample_pca_modes.pkl', 'wb')\n",
    "pickle.dump(immean,f)\n",
    "pickle.dump(V,f)\n",
    "f.close()"
   ]
  }
 ],
 "metadata": {
  "kernelspec": {
   "display_name": "Python 3",
   "language": "python",
   "name": "python3"
  },
  "language_info": {
   "codemirror_mode": {
    "name": "ipython",
    "version": 3
   },
   "file_extension": ".py",
   "mimetype": "text/x-python",
   "name": "python",
   "nbconvert_exporter": "python",
   "pygments_lexer": "ipython3",
   "version": "3.6.3"
  }
 },
 "nbformat": 4,
 "nbformat_minor": 2
}

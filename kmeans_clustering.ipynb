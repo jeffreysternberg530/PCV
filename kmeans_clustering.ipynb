{
 "cells": [
  {
   "cell_type": "code",
   "execution_count": 1,
   "metadata": {
    "collapsed": true
   },
   "outputs": [],
   "source": [
    "import imtools\n",
    "import pickle\n",
    "import glob\n",
    "from numpy import *\n",
    "import numpy as np\n",
    "from scipy.cluster.vq import *\n",
    "from PIL import Image\n",
    "from pylab import *"
   ]
  },
  {
   "cell_type": "code",
   "execution_count": 2,
   "metadata": {
    "collapsed": true
   },
   "outputs": [],
   "source": [
    "# get list of images\n",
    "imlist = glob.glob(\"image_sample_copy/animal_images/*.jpg\")\n",
    "#imlist = imtools.get_imlist('data/image_sample/animal_images')\n",
    "imnbr = len(imlist)"
   ]
  },
  {
   "cell_type": "code",
   "execution_count": 3,
   "metadata": {
    "collapsed": true
   },
   "outputs": [],
   "source": [
    "# load model file\n",
    "with open('sample_pca_modes.pkl','rb') as f:\n",
    "    immean = pickle.load(f)\n",
    "    V = pickle.load(f)"
   ]
  },
  {
   "cell_type": "code",
   "execution_count": 4,
   "metadata": {},
   "outputs": [
    {
     "data": {
      "text/plain": [
       "array([90.9, 93. , 85.2, ..., 64.2, 56.3, 45.1])"
      ]
     },
     "execution_count": 4,
     "metadata": {},
     "output_type": "execute_result"
    }
   ],
   "source": [
    "immean"
   ]
  },
  {
   "cell_type": "code",
   "execution_count": 5,
   "metadata": {},
   "outputs": [
    {
     "data": {
      "text/plain": [
       "array([[-0.00230727, -0.00292029, -0.00338931, ..., -0.00183725,\n",
       "        -0.00135564, -0.00221707],\n",
       "       [ 0.00369335,  0.0026143 ,  0.00304423, ..., -0.0032714 ,\n",
       "        -0.00378224, -0.00250616],\n",
       "       [-0.00029455,  0.00087838,  0.00135333, ...,  0.00097209,\n",
       "         0.00129199,  0.00122387],\n",
       "       ...,\n",
       "       [ 0.00191495,  0.00325677,  0.0027272 , ...,  0.00151268,\n",
       "        -0.00040783,  0.00031953],\n",
       "       [-0.0012742 , -0.00185558, -0.00177602, ..., -0.00044348,\n",
       "        -0.00073597, -0.00079033],\n",
       "       [        nan,         nan,         nan, ...,         nan,\n",
       "                nan,         nan]])"
      ]
     },
     "execution_count": 5,
     "metadata": {},
     "output_type": "execute_result"
    }
   ],
   "source": [
    "V"
   ]
  },
  {
   "cell_type": "code",
   "execution_count": 6,
   "metadata": {
    "collapsed": true
   },
   "outputs": [],
   "source": [
    "# create matrix to store all flattened images\n",
    "immatrix = array([array(Image.open(im)).flatten()\n",
    "for im in imlist],'f')"
   ]
  },
  {
   "cell_type": "code",
   "execution_count": 7,
   "metadata": {},
   "outputs": [
    {
     "data": {
      "text/plain": [
       "array([145., 147., 160., ...,  62.,  43.,  49.], dtype=float32)"
      ]
     },
     "execution_count": 7,
     "metadata": {},
     "output_type": "execute_result"
    }
   ],
   "source": [
    "immatrix[0]"
   ]
  },
  {
   "cell_type": "code",
   "execution_count": 8,
   "metadata": {
    "collapsed": true
   },
   "outputs": [],
   "source": [
    "# project on the 40 first PCs\n",
    "immean = immean.flatten()\n",
    "projected = array([dot(V[:40],immatrix[i]-immean) for i in range(imnbr)])"
   ]
  },
  {
   "cell_type": "code",
   "execution_count": 9,
   "metadata": {},
   "outputs": [
    {
     "data": {
      "text/plain": [
       "array([[-15590.03657901,   4557.59818254,   2457.54405697,\n",
       "         -4026.63857892,   6161.51552412,  -2447.9861063 ,\n",
       "          4561.32858197,   2075.64037882,  11301.15569394,\n",
       "                    nan],\n",
       "       [-15454.51383976,  13565.35729558,   2659.14697402,\n",
       "         -1094.40201973,   -126.17372689,   8455.62597975,\n",
       "         -2551.10132023,   7674.88885657,  -5541.19625296,\n",
       "                    nan],\n",
       "       [ 11920.27356373,  -9459.83501589,  -1088.58347058,\n",
       "         -9195.4484596 ,  -3694.77678388,    544.38435082,\n",
       "        -11789.41434186,   4044.24682944,   3399.85859658,\n",
       "                    nan],\n",
       "       [ 17160.98717211,   5697.91323825,  14530.29807051,\n",
       "          7305.79623003,   7021.84129515,   -955.73959608,\n",
       "         -4755.03836675,  -5285.70738548,   -271.05531117,\n",
       "                    nan],\n",
       "       [  2960.96372063,  15755.84241557, -12646.43973718,\n",
       "         -1724.18904014,  -5069.84915657,  -5640.89306907,\n",
       "         -2133.03005185,  -7088.10810141,   -419.85989588,\n",
       "                    nan],\n",
       "       [-28437.81694203, -10325.86326407,   6186.58289495,\n",
       "          3676.58070263,  -6102.59636517,  -6514.42900777,\n",
       "         -1842.29964473,  -3293.45049312,  -3260.91323858,\n",
       "                    nan],\n",
       "       [ -4547.08806049, -10117.11309827, -12939.86311077,\n",
       "          3253.88970105,  12727.22399033,   3601.31208593,\n",
       "          -711.99325392,  -2417.23954294,  -2844.50271629,\n",
       "                    nan],\n",
       "       [ 15775.93365138,  -1584.49241561,  -1380.54322664,\n",
       "          2399.52500566,    554.59669987,  -9542.4805717 ,\n",
       "          6240.16473346,   9911.31220622,  -3812.1473185 ,\n",
       "                    nan],\n",
       "       [  8268.46769365,  -4207.52422563,   5227.78515428,\n",
       "        -12665.155146  ,  -1973.4339837 ,   4612.41544195,\n",
       "          9069.73290179,  -5837.24312235,  -3431.04667002,\n",
       "                    nan],\n",
       "       [  7942.8296198 ,  -3881.88311247,  -3005.92760555,\n",
       "         12070.04160503,  -9498.34749325,   7887.79049247,\n",
       "          3911.65076212,    215.66037426,   4879.7071129 ,\n",
       "                    nan]])"
      ]
     },
     "execution_count": 9,
     "metadata": {},
     "output_type": "execute_result"
    }
   ],
   "source": [
    "projected"
   ]
  },
  {
   "cell_type": "code",
   "execution_count": 10,
   "metadata": {},
   "outputs": [
    {
     "ename": "ValueError",
     "evalue": "array must not contain infs or NaNs",
     "output_type": "error",
     "traceback": [
      "\u001b[0;31m---------------------------------------------------------------------------\u001b[0m",
      "\u001b[0;31mValueError\u001b[0m                                Traceback (most recent call last)",
      "\u001b[0;32m<ipython-input-10-f46b4268867a>\u001b[0m in \u001b[0;36m<module>\u001b[0;34m()\u001b[0m\n\u001b[1;32m      1\u001b[0m \u001b[0;31m# k-means\u001b[0m\u001b[0;34m\u001b[0m\u001b[0;34m\u001b[0m\u001b[0m\n\u001b[0;32m----> 2\u001b[0;31m \u001b[0mprojected\u001b[0m \u001b[0;34m=\u001b[0m \u001b[0mwhiten\u001b[0m\u001b[0;34m(\u001b[0m\u001b[0mprojected\u001b[0m\u001b[0;34m)\u001b[0m\u001b[0;34m\u001b[0m\u001b[0m\n\u001b[0m\u001b[1;32m      3\u001b[0m \u001b[0mcentroids\u001b[0m\u001b[0;34m,\u001b[0m\u001b[0mdistortion\u001b[0m \u001b[0;34m=\u001b[0m \u001b[0mkmeans\u001b[0m\u001b[0;34m(\u001b[0m\u001b[0mprojected\u001b[0m\u001b[0;34m,\u001b[0m\u001b[0;36m4\u001b[0m\u001b[0;34m)\u001b[0m\u001b[0;34m\u001b[0m\u001b[0m\n\u001b[1;32m      4\u001b[0m \u001b[0mcode\u001b[0m\u001b[0;34m,\u001b[0m\u001b[0mdistance\u001b[0m \u001b[0;34m=\u001b[0m \u001b[0mvq\u001b[0m\u001b[0;34m(\u001b[0m\u001b[0mprojected\u001b[0m\u001b[0;34m,\u001b[0m\u001b[0mcentroids\u001b[0m\u001b[0;34m)\u001b[0m\u001b[0;34m\u001b[0m\u001b[0m\n",
      "\u001b[0;32m~/anaconda3/lib/python3.6/site-packages/scipy/cluster/vq.py\u001b[0m in \u001b[0;36mwhiten\u001b[0;34m(obs, check_finite)\u001b[0m\n\u001b[1;32m    132\u001b[0m \u001b[0;34m\u001b[0m\u001b[0m\n\u001b[1;32m    133\u001b[0m     \"\"\"\n\u001b[0;32m--> 134\u001b[0;31m     \u001b[0mobs\u001b[0m \u001b[0;34m=\u001b[0m \u001b[0m_asarray_validated\u001b[0m\u001b[0;34m(\u001b[0m\u001b[0mobs\u001b[0m\u001b[0;34m,\u001b[0m \u001b[0mcheck_finite\u001b[0m\u001b[0;34m=\u001b[0m\u001b[0mcheck_finite\u001b[0m\u001b[0;34m)\u001b[0m\u001b[0;34m\u001b[0m\u001b[0m\n\u001b[0m\u001b[1;32m    135\u001b[0m     \u001b[0mstd_dev\u001b[0m \u001b[0;34m=\u001b[0m \u001b[0mobs\u001b[0m\u001b[0;34m.\u001b[0m\u001b[0mstd\u001b[0m\u001b[0;34m(\u001b[0m\u001b[0maxis\u001b[0m\u001b[0;34m=\u001b[0m\u001b[0;36m0\u001b[0m\u001b[0;34m)\u001b[0m\u001b[0;34m\u001b[0m\u001b[0m\n\u001b[1;32m    136\u001b[0m     \u001b[0mzero_std_mask\u001b[0m \u001b[0;34m=\u001b[0m \u001b[0mstd_dev\u001b[0m \u001b[0;34m==\u001b[0m \u001b[0;36m0\u001b[0m\u001b[0;34m\u001b[0m\u001b[0m\n",
      "\u001b[0;32m~/anaconda3/lib/python3.6/site-packages/scipy/_lib/_util.py\u001b[0m in \u001b[0;36m_asarray_validated\u001b[0;34m(a, check_finite, sparse_ok, objects_ok, mask_ok, as_inexact)\u001b[0m\n\u001b[1;32m    236\u001b[0m             \u001b[0;32mraise\u001b[0m \u001b[0mValueError\u001b[0m\u001b[0;34m(\u001b[0m\u001b[0;34m'masked arrays are not supported'\u001b[0m\u001b[0;34m)\u001b[0m\u001b[0;34m\u001b[0m\u001b[0m\n\u001b[1;32m    237\u001b[0m     \u001b[0mtoarray\u001b[0m \u001b[0;34m=\u001b[0m \u001b[0mnp\u001b[0m\u001b[0;34m.\u001b[0m\u001b[0masarray_chkfinite\u001b[0m \u001b[0;32mif\u001b[0m \u001b[0mcheck_finite\u001b[0m \u001b[0;32melse\u001b[0m \u001b[0mnp\u001b[0m\u001b[0;34m.\u001b[0m\u001b[0masarray\u001b[0m\u001b[0;34m\u001b[0m\u001b[0m\n\u001b[0;32m--> 238\u001b[0;31m     \u001b[0ma\u001b[0m \u001b[0;34m=\u001b[0m \u001b[0mtoarray\u001b[0m\u001b[0;34m(\u001b[0m\u001b[0ma\u001b[0m\u001b[0;34m)\u001b[0m\u001b[0;34m\u001b[0m\u001b[0m\n\u001b[0m\u001b[1;32m    239\u001b[0m     \u001b[0;32mif\u001b[0m \u001b[0;32mnot\u001b[0m \u001b[0mobjects_ok\u001b[0m\u001b[0;34m:\u001b[0m\u001b[0;34m\u001b[0m\u001b[0m\n\u001b[1;32m    240\u001b[0m         \u001b[0;32mif\u001b[0m \u001b[0ma\u001b[0m\u001b[0;34m.\u001b[0m\u001b[0mdtype\u001b[0m \u001b[0;32mis\u001b[0m \u001b[0mnp\u001b[0m\u001b[0;34m.\u001b[0m\u001b[0mdtype\u001b[0m\u001b[0;34m(\u001b[0m\u001b[0;34m'O'\u001b[0m\u001b[0;34m)\u001b[0m\u001b[0;34m:\u001b[0m\u001b[0;34m\u001b[0m\u001b[0m\n",
      "\u001b[0;32m~/anaconda3/lib/python3.6/site-packages/numpy/lib/function_base.py\u001b[0m in \u001b[0;36masarray_chkfinite\u001b[0;34m(a, dtype, order)\u001b[0m\n\u001b[1;32m   1231\u001b[0m     \u001b[0;32mif\u001b[0m \u001b[0ma\u001b[0m\u001b[0;34m.\u001b[0m\u001b[0mdtype\u001b[0m\u001b[0;34m.\u001b[0m\u001b[0mchar\u001b[0m \u001b[0;32min\u001b[0m \u001b[0mtypecodes\u001b[0m\u001b[0;34m[\u001b[0m\u001b[0;34m'AllFloat'\u001b[0m\u001b[0;34m]\u001b[0m \u001b[0;32mand\u001b[0m \u001b[0;32mnot\u001b[0m \u001b[0mnp\u001b[0m\u001b[0;34m.\u001b[0m\u001b[0misfinite\u001b[0m\u001b[0;34m(\u001b[0m\u001b[0ma\u001b[0m\u001b[0;34m)\u001b[0m\u001b[0;34m.\u001b[0m\u001b[0mall\u001b[0m\u001b[0;34m(\u001b[0m\u001b[0;34m)\u001b[0m\u001b[0;34m:\u001b[0m\u001b[0;34m\u001b[0m\u001b[0m\n\u001b[1;32m   1232\u001b[0m         raise ValueError(\n\u001b[0;32m-> 1233\u001b[0;31m             \"array must not contain infs or NaNs\")\n\u001b[0m\u001b[1;32m   1234\u001b[0m     \u001b[0;32mreturn\u001b[0m \u001b[0ma\u001b[0m\u001b[0;34m\u001b[0m\u001b[0m\n\u001b[1;32m   1235\u001b[0m \u001b[0;34m\u001b[0m\u001b[0m\n",
      "\u001b[0;31mValueError\u001b[0m: array must not contain infs or NaNs"
     ]
    }
   ],
   "source": [
    "# k-means\n",
    "projected = whiten(projected)\n",
    "centroids,distortion = kmeans(projected,4)\n",
    "code,distance = vq(projected,centroids)"
   ]
  },
  {
   "cell_type": "code",
   "execution_count": 88,
   "metadata": {},
   "outputs": [
    {
     "data": {
      "image/png": "[encoded data removed]",
      "text/plain": [
       "<matplotlib.figure.Figure at 0x11849e550>"
      ]
     },
     "metadata": {},
     "output_type": "display_data"
    },
    {
     "data": {
      "image/png": "[encoded data removed]",
      "text/plain": [
       "<matplotlib.figure.Figure at 0x62262fbe0>"
      ]
     },
     "metadata": {},
     "output_type": "display_data"
    },
    {
     "data": {
      "image/png": "[encoded data removed]",
      "text/plain": [
       "<matplotlib.figure.Figure at 0x62274eb38>"
      ]
     },
     "metadata": {},
     "output_type": "display_data"
    },
    {
     "data": {
      "image/png": "[encoded data removed]",
      "text/plain": [
       "<matplotlib.figure.Figure at 0x1119c5c88>"
      ]
     },
     "metadata": {},
     "output_type": "display_data"
    },
    {
     "data": {
      "image/png": "[encoded data removed]",
      "text/plain": [
       "<matplotlib.figure.Figure at 0x11849e9e8>"
      ]
     },
     "metadata": {},
     "output_type": "display_data"
    },
    {
     "data": {
      "image/png": "[encoded data removed]",
      "text/plain": [
       "<matplotlib.figure.Figure at 0x6227ab7b8>"
      ]
     },
     "metadata": {},
     "output_type": "display_data"
    }
   ],
   "source": [
    "# plot clusters\n",
    "for k in range(4):\n",
    "    ind = where(code==k)[0]\n",
    "    figure()\n",
    "    gray()\n",
    "    for i in range(minimum(len(ind),40)):\n",
    "        subplot(4,10,i+1)\n",
    "        imshow(immatrix[ind[i]].reshape((201,225,3)))\n",
    "        axis('off')\n",
    "show()"
   ]
  },
  {
   "cell_type": "code",
   "execution_count": null,
   "metadata": {
    "collapsed": true
   },
   "outputs": [],
   "source": []
  }
 ],
 "metadata": {
  "kernelspec": {
   "display_name": "Python 3",
   "language": "python",
   "name": "python3"
  },
  "language_info": {
   "codemirror_mode": {
    "name": "ipython",
    "version": 3
   },
   "file_extension": ".py",
   "mimetype": "text/x-python",
   "name": "python",
   "nbconvert_exporter": "python",
   "pygments_lexer": "ipython3",
   "version": "3.6.3"
  }
 },
 "nbformat": 4,
 "nbformat_minor": 2
}
